{
 "cells": [
  {
   "cell_type": "markdown",
   "id": "a5bb7b19-d385-46ab-b7da-be064547ceb7",
   "metadata": {},
   "source": [
    "<font color=\"grey\">Qi Yu (University of Konstanz)  |  ZHAW, March 03-04, 2022</font>"
   ]
  },
  {
   "cell_type": "markdown",
   "id": "7b81f8d2-78c1-41f7-9992-2ae1f26bd9d5",
   "metadata": {},
   "source": [
    "# Hands-On: Control Structures"
   ]
  },
  {
   "cell_type": "markdown",
   "id": "32c51ad0-bd72-4aad-a4d7-dad06e335ec9",
   "metadata": {
    "tags": []
   },
   "source": [
    "## Task 1\n",
    "\n",
    "**Please use ```for``` and ```range()``` to print out the following pattern:**\n",
    "\n",
    "    *\n",
    "\n",
    "    **\n",
    "\n",
    "    ***\n",
    "\n",
    "    ****\n",
    "\n",
    "    *****"
   ]
  },
  {
   "cell_type": "code",
   "execution_count": null,
   "id": "9c43063c-bdda-4b39-bdcb-dd8f8d054cf4",
   "metadata": {},
   "outputs": [],
   "source": [
    "# ADD YOUR CODE HERE\n",
    "\n",
    "\n"
   ]
  },
  {
   "cell_type": "markdown",
   "id": "e5e4a3ee-bbe8-467d-b721-8593ad1fd8f2",
   "metadata": {
    "tags": []
   },
   "source": [
    "## Task 2\n",
    "\n",
    "**Please use ```for``` and ```range()``` to print out the following pattern:**\n",
    "\n",
    "    0 \n",
    "    \n",
    "    0 1\n",
    "    \n",
    "    0 1 2 \n",
    "    \n",
    "    0 1 2 3 \n",
    "    \n",
    "    0 1 2 3 4"
   ]
  },
  {
   "cell_type": "code",
   "execution_count": null,
   "id": "7d0db99c-1852-476c-aa0c-677f55c78e83",
   "metadata": {},
   "outputs": [],
   "source": [
    "# ADD YOUR CODE HERE\n",
    "\n",
    "\n"
   ]
  },
  {
   "cell_type": "markdown",
   "id": "454232b0-cde0-4aa9-b348-4963085442f6",
   "metadata": {},
   "source": [
    "# Task 3"
   ]
  },
  {
   "cell_type": "markdown",
   "id": "440b717a-24be-45ad-a83a-99c9e083523c",
   "metadata": {},
   "source": [
    "**1. Place a ```break``` statement within the ```for```-loop so that only the first 5 letters in the word \"absolutely\", i.e., \"absol\", are printed.**"
   ]
  },
  {
   "cell_type": "code",
   "execution_count": null,
   "id": "9e21471f-6f39-4eca-a421-8e8b7d21221c",
   "metadata": {},
   "outputs": [],
   "source": [
    "word = \"absolutely\"\n",
    "count = 0\n",
    "\n",
    "for i in word:\n",
    "    \n",
    "    # ADD YOUR CODE HERE\n",
    "    \n",
    "    \n",
    "    "
   ]
  },
  {
   "cell_type": "markdown",
   "id": "444904a7-fbd6-4b30-b62f-29051e90a8a2",
   "metadata": {
    "tags": []
   },
   "source": [
    "**2. Place a ```continue``` statement in the ```for```-loop so that only consonants (i.e., letters that are not in ```vowel```) of the word \"absolutely\" are printed.**"
   ]
  },
  {
   "cell_type": "code",
   "execution_count": null,
   "id": "8a86a46c-363d-4eb9-bd45-67ad2ac88535",
   "metadata": {},
   "outputs": [],
   "source": [
    "word = \"absolutely\"\n",
    "vowel = \"aeiou\"\n",
    "\n",
    "for i in word:\n",
    "    \n",
    "    # ADD YOUR CODE HERE\n",
    "    \n",
    "    \n",
    "    "
   ]
  }
 ],
 "metadata": {
  "kernelspec": {
   "display_name": "Python 3",
   "language": "python",
   "name": "python3"
  },
  "language_info": {
   "codemirror_mode": {
    "name": "ipython",
    "version": 3
   },
   "file_extension": ".py",
   "mimetype": "text/x-python",
   "name": "python",
   "nbconvert_exporter": "python",
   "pygments_lexer": "ipython3",
   "version": "3.8.8"
  }
 },
 "nbformat": 4,
 "nbformat_minor": 5
}
