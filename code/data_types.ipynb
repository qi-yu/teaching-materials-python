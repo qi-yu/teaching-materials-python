{
 "cells": [
  {
   "cell_type": "markdown",
   "id": "6b91edd7-db32-447f-973a-d54bde08a881",
   "metadata": {},
   "source": [
    "<font color=\"grey\">Qi Yu (University of Konstanz)  |  ZHAW, March 03-04, 2022</font>"
   ]
  },
  {
   "cell_type": "markdown",
   "id": "f642167b-25e6-4487-b994-22d9a2900d72",
   "metadata": {},
   "source": [
    "# 1. Numbers"
   ]
  },
  {
   "cell_type": "code",
   "execution_count": null,
   "id": "353abdd2-b493-4315-8dd5-28d49ac1c0dd",
   "metadata": {},
   "outputs": [],
   "source": [
    "x = 1\n",
    "type(x)"
   ]
  },
  {
   "cell_type": "code",
   "execution_count": null,
   "id": "f4213172-d6ef-45bb-bf0a-16967eb1c5a4",
   "metadata": {},
   "outputs": [],
   "source": [
    "y = 1.0\n",
    "type(y)"
   ]
  },
  {
   "cell_type": "markdown",
   "id": "6654019e-1c17-4b3e-a226-95c9d5c8aa33",
   "metadata": {},
   "source": [
    "**Construct integers and floating point numbers:**"
   ]
  },
  {
   "cell_type": "code",
   "execution_count": null,
   "id": "aadc213c-8dbf-4148-a80f-a1294584fb3d",
   "metadata": {},
   "outputs": [],
   "source": [
    "int(y)"
   ]
  },
  {
   "cell_type": "code",
   "execution_count": null,
   "id": "42bddb3a-a199-45d7-96af-ba3c5a8d5c7e",
   "metadata": {},
   "outputs": [],
   "source": [
    "float(x)"
   ]
  },
  {
   "cell_type": "markdown",
   "id": "c026efc4-b65c-4132-b53d-143d72670625",
   "metadata": {},
   "source": [
    "# 2. Booleans"
   ]
  },
  {
   "cell_type": "markdown",
   "id": "1cf6d9db-2561-4791-900f-169ca4ebd2f7",
   "metadata": {},
   "source": [
    "## 2.1 Booleans"
   ]
  },
  {
   "cell_type": "code",
   "execution_count": null,
   "id": "56d94998-77e6-426e-9476-d8a4103d8100",
   "metadata": {},
   "outputs": [],
   "source": [
    "boolean1 = True\n",
    "boolean1"
   ]
  },
  {
   "cell_type": "code",
   "execution_count": null,
   "id": "9fc2f783-f4a3-4cf1-9e49-0626ba07d3d9",
   "metadata": {},
   "outputs": [],
   "source": [
    "boolean2 = False\n",
    "boolean2"
   ]
  },
  {
   "cell_type": "markdown",
   "id": "b2fa5358-bacc-4768-bad9-0a6180f280ce",
   "metadata": {},
   "source": [
    "**Manipulating booleans with ```and```, ```or```, and ```not```:**"
   ]
  },
  {
   "cell_type": "code",
   "execution_count": null,
   "id": "252a1dc4-1431-42db-aa2c-1e721eecfec7",
   "metadata": {},
   "outputs": [],
   "source": [
    "boolean1 and boolean2"
   ]
  },
  {
   "cell_type": "code",
   "execution_count": null,
   "id": "cbd58fe6-fdc4-48b5-9702-f83a25b6138c",
   "metadata": {},
   "outputs": [],
   "source": [
    "boolean1 or boolean2"
   ]
  },
  {
   "cell_type": "code",
   "execution_count": null,
   "id": "25d02309-c9de-46b5-804f-85c66332f131",
   "metadata": {},
   "outputs": [],
   "source": [
    "not boolean1"
   ]
  },
  {
   "cell_type": "markdown",
   "id": "bf7bd2d9-628c-4acd-9163-a29babb11b6e",
   "metadata": {},
   "source": [
    "**Use parentheses to clarify the scope of operations:**"
   ]
  },
  {
   "cell_type": "code",
   "execution_count": null,
   "id": "12c03231-a6c9-4012-98f5-49996058adc5",
   "metadata": {},
   "outputs": [],
   "source": [
    "not (boolean1 and boolean2) # Equals to: not (True and False) = not False = True"
   ]
  },
  {
   "cell_type": "code",
   "execution_count": null,
   "id": "e5b0bbaa-ed93-4773-9305-2814ab39ae4f",
   "metadata": {},
   "outputs": [],
   "source": [
    "not boolean1 and boolean2 # Equals to: not True and False = False and False = False"
   ]
  },
  {
   "cell_type": "markdown",
   "id": "3465d4df-0388-4137-8be6-7c0568416990",
   "metadata": {},
   "source": [
    "## 2.2 Logical operators"
   ]
  },
  {
   "cell_type": "code",
   "execution_count": null,
   "id": "8a3e1fda-67eb-4a16-8dc7-968ccd1deee7",
   "metadata": {},
   "outputs": [],
   "source": [
    "num1 = 3\n",
    "num2 = 2\n",
    "num1 + num2 == 5"
   ]
  },
  {
   "cell_type": "code",
   "execution_count": null,
   "id": "fe5d0aa4-0acb-48ea-9dc5-c34c46bb5a37",
   "metadata": {},
   "outputs": [],
   "source": [
    "num1 + num2 != 5"
   ]
  },
  {
   "cell_type": "code",
   "execution_count": null,
   "id": "cfb0171f-381c-4346-a935-21c3d89e831d",
   "metadata": {},
   "outputs": [],
   "source": [
    "num1 >= num2"
   ]
  },
  {
   "cell_type": "code",
   "execution_count": null,
   "id": "763f942a-8fff-4b3f-bbe3-6345f5e2f11a",
   "metadata": {},
   "outputs": [],
   "source": [
    "\"apple\" > \"banana\""
   ]
  },
  {
   "cell_type": "markdown",
   "id": "ffaca72d-153e-408b-829c-d352b7442f19",
   "metadata": {
    "tags": []
   },
   "source": [
    "# 3. Strings"
   ]
  },
  {
   "cell_type": "markdown",
   "id": "924afe59-b107-4945-a706-398c146fb140",
   "metadata": {},
   "source": [
    "## 3.1 Construct strings"
   ]
  },
  {
   "cell_type": "markdown",
   "id": "2fc5a19e-2a46-4e73-bc5b-0b39af75ef08",
   "metadata": {},
   "source": [
    "**Single-quoted strings:**"
   ]
  },
  {
   "cell_type": "code",
   "execution_count": null,
   "id": "9dbca291-0897-4c48-a775-a7640fe29edb",
   "metadata": {},
   "outputs": [],
   "source": [
    "mystr1 = \"Python\"\n",
    "mystr1"
   ]
  },
  {
   "cell_type": "code",
   "execution_count": null,
   "id": "e0d37d56-8adf-4230-af60-c49de64d1a79",
   "metadata": {},
   "outputs": [],
   "source": [
    "mystr2 = 'Python'\n",
    "mystr2"
   ]
  },
  {
   "cell_type": "markdown",
   "id": "0ca59b39-f0f8-4624-9111-691d85e094e2",
   "metadata": {},
   "source": [
    "**Triple-quoted strings: It allows the string to be defined over multiple lines.**\n",
    "\n",
    "**Thus, it is a convenient way to enter multi-line strings, and a good practice to assure the readability of the code.**"
   ]
  },
  {
   "cell_type": "code",
   "execution_count": null,
   "id": "7be7d5ef-c376-4ac8-8a1b-da1428421107",
   "metadata": {},
   "outputs": [],
   "source": [
    "mystr3 = \"\"\"Winterthur is a city in the canton of Zürich in northern Switzerland. \n",
    "With over 110,000 residents it is the country's sixth-largest city by population, \n",
    "and is the ninth-largest agglomeration with about 140,000 inhabitants.\"\"\"\n",
    "\n",
    "mystr3"
   ]
  },
  {
   "cell_type": "code",
   "execution_count": null,
   "id": "a97afa51-6e2c-4c19-9406-2b0d945020d9",
   "metadata": {},
   "outputs": [],
   "source": [
    "mystr4 = '''Winterthur is a city in the canton of Zürich in northern Switzerland. \n",
    "With over 110,000 residents it is the country's sixth-largest city by population, \n",
    "and is the ninth-largest agglomeration with about 140,000 inhabitants.\n",
    "'''\n",
    "\n",
    "mystr4"
   ]
  },
  {
   "cell_type": "markdown",
   "id": "91fce21d-7e3a-4aca-9ae6-a2bd18ea7d22",
   "metadata": {},
   "source": [
    "**Dealing with quotation marks:**"
   ]
  },
  {
   "cell_type": "code",
   "execution_count": null,
   "id": "35174bd2-3e9e-492e-8364-6abd766d6906",
   "metadata": {},
   "outputs": [],
   "source": [
    "str_with_quot1 = 'He said: \"Hooray!\"'"
   ]
  },
  {
   "cell_type": "code",
   "execution_count": null,
   "id": "ba8f22bb-2d76-4994-be47-70d728ae4dad",
   "metadata": {},
   "outputs": [],
   "source": [
    "str_with_quot2 = \"He said: 'Hooray!'\""
   ]
  },
  {
   "cell_type": "code",
   "execution_count": null,
   "id": "a663626d-ce71-4a30-af51-f13e8806502e",
   "metadata": {},
   "outputs": [],
   "source": [
    "str_with_quot3 = \"He said: \\\"Hooray!\\\"\""
   ]
  },
  {
   "cell_type": "markdown",
   "id": "a3be3097-ded3-4010-9277-2ab42cea9046",
   "metadata": {},
   "source": [
    "**This would evoke an error message:**"
   ]
  },
  {
   "cell_type": "code",
   "execution_count": null,
   "id": "ada3ea7d-03d2-461e-9dc9-1ca540eabf9a",
   "metadata": {},
   "outputs": [],
   "source": [
    "str_with_quot3 = \"He said: \"Hooray!\"\""
   ]
  },
  {
   "cell_type": "markdown",
   "id": "753b2b2e-6e7d-4a00-b518-215bf11436b8",
   "metadata": {},
   "source": [
    "**Construct a string using ```str()```:**"
   ]
  },
  {
   "cell_type": "code",
   "execution_count": null,
   "id": "39cfcb13-fdd3-4e5e-8122-bd64ee208fdc",
   "metadata": {},
   "outputs": [],
   "source": [
    "str(120)"
   ]
  },
  {
   "cell_type": "markdown",
   "id": "f276caac-1d08-4c79-8417-f9a623b573e2",
   "metadata": {
    "tags": []
   },
   "source": [
    "## 3.2 Functions and operators"
   ]
  },
  {
   "cell_type": "markdown",
   "id": "25c705e2-c5bd-4ef2-b8d4-c62e7b4c90b6",
   "metadata": {
    "tags": []
   },
   "source": [
    "### 3.2.1 ```len()``` and ```in```"
   ]
  },
  {
   "cell_type": "code",
   "execution_count": null,
   "id": "775e4e83-4abc-47e1-b3ef-18d24c9b9396",
   "metadata": {},
   "outputs": [],
   "source": [
    "mystr5 = \"cat\""
   ]
  },
  {
   "cell_type": "code",
   "execution_count": null,
   "id": "c161886a-8a76-405b-ba77-8c8d7aabe227",
   "metadata": {},
   "outputs": [],
   "source": [
    "len(mystr5)"
   ]
  },
  {
   "cell_type": "code",
   "execution_count": null,
   "id": "377c78f4-f783-4bda-b46f-cdd440203818",
   "metadata": {},
   "outputs": [],
   "source": [
    "\"a\" in \"cat\""
   ]
  },
  {
   "cell_type": "code",
   "execution_count": null,
   "id": "074561b7-d442-4cf2-a384-346ab6af1f6b",
   "metadata": {},
   "outputs": [],
   "source": [
    "\"bc\" in \"cat\""
   ]
  },
  {
   "cell_type": "markdown",
   "id": "cf65a099-defa-4667-aa56-18455eed88bd",
   "metadata": {},
   "source": [
    "### 3.2.2 Indexing"
   ]
  },
  {
   "cell_type": "code",
   "execution_count": null,
   "id": "5f04d646-79f5-40bd-beab-308f059fd0db",
   "metadata": {},
   "outputs": [],
   "source": [
    "mystr = \"python\"\n",
    "letter = mystr[1]\n",
    "letter"
   ]
  },
  {
   "cell_type": "code",
   "execution_count": null,
   "id": "802e2204-d17c-4df1-8ab0-b6c6b4660a3d",
   "metadata": {},
   "outputs": [],
   "source": [
    "letter = mystr[-1]\n",
    "letter"
   ]
  },
  {
   "cell_type": "markdown",
   "id": "94751462-68ed-4445-be3a-920223c51101",
   "metadata": {},
   "source": [
    "**Be careful about the ```IndexError```!**"
   ]
  },
  {
   "cell_type": "code",
   "execution_count": null,
   "id": "d7040032-933c-4762-9078-7eab03196a85",
   "metadata": {},
   "outputs": [],
   "source": [
    "letter = mystr[6]\n",
    "letter"
   ]
  },
  {
   "cell_type": "markdown",
   "id": "6228a544-ddac-4818-8b07-df168f34ab83",
   "metadata": {},
   "source": [
    "### 3.2.3 Slicing"
   ]
  },
  {
   "cell_type": "code",
   "execution_count": null,
   "id": "31f22b7b-048f-4c32-8368-5acc50535dc9",
   "metadata": {},
   "outputs": [],
   "source": [
    "str_to_slice = \"python\"\n",
    "selected1 = str_to_slice[2:5]\n",
    "selected1"
   ]
  },
  {
   "cell_type": "markdown",
   "id": "d02d7a41-73df-44a2-a266-461e7aab764a",
   "metadata": {},
   "source": [
    "**Indices can be unspecified:**"
   ]
  },
  {
   "cell_type": "code",
   "execution_count": null,
   "id": "572a32e7-2967-4fd5-b5d9-4a800893a32f",
   "metadata": {},
   "outputs": [],
   "source": [
    "selected2 = str_to_slice[2:]\n",
    "selected2"
   ]
  },
  {
   "cell_type": "code",
   "execution_count": null,
   "id": "5a5f585c-adbb-44a5-8085-345a6f1908d0",
   "metadata": {},
   "outputs": [],
   "source": [
    "selected3 = str_to_slice[:4]\n",
    "selected3"
   ]
  },
  {
   "cell_type": "code",
   "execution_count": null,
   "id": "8ab02780-5ee7-42b6-8fa5-c589d430e2f2",
   "metadata": {},
   "outputs": [],
   "source": [
    "selected4 = str_to_slice[:]\n",
    "selected4"
   ]
  },
  {
   "cell_type": "markdown",
   "id": "8eeb579a-087d-4606-afc5-b2ef0be8bd78",
   "metadata": {},
   "source": [
    "**Slicing do not raise ```IndexError``` if the indices are out of bound. Instead, Python will just return an empty slice.**"
   ]
  },
  {
   "cell_type": "code",
   "execution_count": null,
   "id": "1b946aa0-bdcc-4e02-9294-78cafda591bd",
   "metadata": {},
   "outputs": [],
   "source": [
    "selected5 = str_to_slice[100:120]\n",
    "selected5"
   ]
  },
  {
   "cell_type": "markdown",
   "id": "916a95ef-de62-45db-b5a4-882f8f925dbe",
   "metadata": {},
   "source": [
    "**Slice using negative indices:**"
   ]
  },
  {
   "cell_type": "code",
   "execution_count": null,
   "id": "725008d5-0d4b-49ed-83a5-b5d202a45ae8",
   "metadata": {},
   "outputs": [],
   "source": [
    "selected6 = str_to_slice[-3:-1]\n",
    "selected6"
   ]
  },
  {
   "cell_type": "code",
   "execution_count": null,
   "id": "d3444bf1-0d81-464f-b172-5b1a7dcecddc",
   "metadata": {},
   "outputs": [],
   "source": [
    "selected7 = str_to_slice[-3:]\n",
    "selected7"
   ]
  },
  {
   "cell_type": "markdown",
   "id": "10edc3a1-f38e-4af2-8642-2d64eb577fe1",
   "metadata": {},
   "source": [
    "**Caveate of negative indices: This would select nothing!**"
   ]
  },
  {
   "cell_type": "code",
   "execution_count": null,
   "id": "69147d3e-8a3a-474b-abc2-223bdeaf73ae",
   "metadata": {},
   "outputs": [],
   "source": [
    "selected8 = str_to_slice[-1:-3]\n",
    "selected8"
   ]
  },
  {
   "cell_type": "markdown",
   "id": "9816d8d1-4217-482f-9d7d-f0d3d55eb3e4",
   "metadata": {
    "tags": []
   },
   "source": [
    "# 4. Lists"
   ]
  },
  {
   "cell_type": "markdown",
   "id": "c0ea37c8-c265-4ff4-8796-ff176e645b15",
   "metadata": {},
   "source": [
    "## 4.1 Construct lists"
   ]
  },
  {
   "cell_type": "code",
   "execution_count": null,
   "id": "4a1a1911-63da-4c04-8ad2-6704fd29b25b",
   "metadata": {},
   "outputs": [],
   "source": [
    "mylist1 = [\"this\", \"is\", \"a\", \"list\"]\n",
    "mylist1"
   ]
  },
  {
   "cell_type": "code",
   "execution_count": null,
   "id": "1420a07d-861e-4ed7-bea5-4eff83dd942a",
   "metadata": {},
   "outputs": [],
   "source": [
    "mylist2 = [\"abc\", 8547, [\"a\", \"list\"], False]\n",
    "mylist2"
   ]
  },
  {
   "cell_type": "markdown",
   "id": "eff1e6b9-b55a-4947-bb20-733f70bf9f4d",
   "metadata": {},
   "source": [
    "**Construct lists using ```list()```:**"
   ]
  },
  {
   "cell_type": "code",
   "execution_count": null,
   "id": "44cbbd98-40f0-4a96-aa45-04074d5cc6ae",
   "metadata": {},
   "outputs": [],
   "source": [
    "list(\"python\")"
   ]
  },
  {
   "cell_type": "markdown",
   "id": "c80b3015-67eb-4b16-a587-859b8a54ba2b",
   "metadata": {},
   "source": [
    "## 4.2 Functions and operators"
   ]
  },
  {
   "cell_type": "markdown",
   "id": "c2fe98b3-6de3-42dd-bcae-5625662f40af",
   "metadata": {},
   "source": [
    "**Indexing and slicing:**"
   ]
  },
  {
   "cell_type": "code",
   "execution_count": null,
   "id": "412cd659-c32e-4b38-9f27-622de4ab8b48",
   "metadata": {},
   "outputs": [],
   "source": [
    "mylist2[1]"
   ]
  },
  {
   "cell_type": "code",
   "execution_count": null,
   "id": "5a07e782-7a45-4071-b174-2ee3fe8ee187",
   "metadata": {},
   "outputs": [],
   "source": [
    "mylist2[2:]"
   ]
  },
  {
   "cell_type": "markdown",
   "id": "70ad6935-1e0f-4a6e-a164-144c09bbd88b",
   "metadata": {},
   "source": [
    "**Change elements of a list:**"
   ]
  },
  {
   "cell_type": "code",
   "execution_count": null,
   "id": "a88523be-90ee-4ae2-85d7-dba2dfdc9187",
   "metadata": {},
   "outputs": [],
   "source": [
    "categories = [\"noun\", \"verb\", \"adjective\"]\n",
    "categories[2] = \"pronoun\"\n",
    "categories"
   ]
  },
  {
   "cell_type": "markdown",
   "id": "72ec7c9b-1618-4048-a51d-c1ba2f98b74d",
   "metadata": {},
   "source": [
    "**Append new elements:**"
   ]
  },
  {
   "cell_type": "code",
   "execution_count": null,
   "id": "c9d7f284-d054-4563-9698-082b84b705b8",
   "metadata": {},
   "outputs": [],
   "source": [
    "categories = [\"noun\", \"verb\", \"adjective\"]\n",
    "categories.append(\"adverbs\")\n",
    "categories"
   ]
  },
  {
   "cell_type": "markdown",
   "id": "9c3da5fb-4810-4254-9c2b-24f6503c52f2",
   "metadata": {},
   "source": [
    "**Remove/add elements at specific positions**"
   ]
  },
  {
   "cell_type": "code",
   "execution_count": null,
   "id": "a5411aad-17ea-4842-88b4-98d457165757",
   "metadata": {},
   "outputs": [],
   "source": [
    "categories = [\"noun\", \"verb\", \"adjective\"]\n",
    "categories.pop(1)\n",
    "categories"
   ]
  },
  {
   "cell_type": "code",
   "execution_count": null,
   "id": "8c1e732a-5ee5-49a6-8879-7b238756b0ac",
   "metadata": {},
   "outputs": [],
   "source": [
    "categories = [\"noun\", \"verb\", \"adjective\"]\n",
    "categories.insert(2, \"preposition\")\n",
    "categories"
   ]
  },
  {
   "cell_type": "markdown",
   "id": "d4c3053d-ca4b-42d2-81f8-6f27824b5344",
   "metadata": {
    "tags": []
   },
   "source": [
    "# 5. Tuples"
   ]
  },
  {
   "cell_type": "markdown",
   "id": "e4409bd5-8f12-49d7-8679-a56fbe777dc5",
   "metadata": {},
   "source": [
    "## 5.1 Construct tuples:"
   ]
  },
  {
   "cell_type": "code",
   "execution_count": null,
   "id": "5edf6e0a-ed73-47c5-8d6b-bce87b5fa3b5",
   "metadata": {},
   "outputs": [],
   "source": [
    "mytuple = (\"abc\", 12, \"xyz\", (3, 10), False)"
   ]
  },
  {
   "cell_type": "markdown",
   "id": "88d859db-45ae-46a0-8ae0-1af588f3eb7e",
   "metadata": {},
   "source": [
    "**Construct tuples using ```tuple()```:**"
   ]
  },
  {
   "cell_type": "code",
   "execution_count": null,
   "id": "b48a72f7-a1f7-44ad-9823-b00e836e09de",
   "metadata": {},
   "outputs": [],
   "source": [
    "tuple([1, 2, 3])"
   ]
  },
  {
   "cell_type": "markdown",
   "id": "8bfa8369-44ce-49e1-a2bc-6f6a6311cd81",
   "metadata": {},
   "source": [
    "## 5.2 Functions and operators"
   ]
  },
  {
   "cell_type": "markdown",
   "id": "e3bdfa02-3e36-4ec3-8b8c-0f09751de6e4",
   "metadata": {},
   "source": [
    "**Indexing and slicing:**"
   ]
  },
  {
   "cell_type": "code",
   "execution_count": null,
   "id": "809d28f1-4a43-4c78-b0ac-c4de28187da7",
   "metadata": {},
   "outputs": [],
   "source": [
    "mytuple[1]"
   ]
  },
  {
   "cell_type": "code",
   "execution_count": null,
   "id": "a8f51c21-5bee-49d1-bb66-c34bc003fba9",
   "metadata": {},
   "outputs": [],
   "source": [
    "mytuple[1:4]"
   ]
  },
  {
   "cell_type": "markdown",
   "id": "32a9e896-ab0d-45ae-8a28-1823ba66514d",
   "metadata": {},
   "source": [
    "**Note that the elements of a tuple cannot be changed! (*immutable*)**"
   ]
  },
  {
   "cell_type": "code",
   "execution_count": null,
   "id": "8eba26e3-ffb8-4e27-8b37-472ab0c83aa5",
   "metadata": {},
   "outputs": [],
   "source": [
    "mytuple[2] = 100"
   ]
  },
  {
   "cell_type": "markdown",
   "id": "383fafff-44ee-4eb6-b9e1-0c2a2e4c3ced",
   "metadata": {},
   "source": [
    "# 6. Dictionaries"
   ]
  },
  {
   "cell_type": "markdown",
   "id": "ee54effb-c849-4e54-8e9e-430b0d861609",
   "metadata": {},
   "source": [
    "## 6.1 Construct dictionaries:"
   ]
  },
  {
   "cell_type": "code",
   "execution_count": null,
   "id": "4d9698fe-a0e1-4574-9fa4-644cdf20f91b",
   "metadata": {},
   "outputs": [],
   "source": [
    "students = {\"Amy Smith\": 1, \"Bob Johnson\": 2, \"James Brown\": 3}"
   ]
  },
  {
   "cell_type": "markdown",
   "id": "bbc46ac6-2d6a-459e-9e03-50ec27e308b4",
   "metadata": {},
   "source": [
    "## 6.2 Functions and operators:"
   ]
  },
  {
   "cell_type": "markdown",
   "id": "68bae355-0146-4999-a4ca-5da9655227d5",
   "metadata": {},
   "source": [
    "**Get value of a key:**"
   ]
  },
  {
   "cell_type": "code",
   "execution_count": null,
   "id": "5b673e51-92b8-40aa-a8c8-b8336dfaa605",
   "metadata": {},
   "outputs": [],
   "source": [
    "students[\"Amy Smith\"]"
   ]
  },
  {
   "cell_type": "markdown",
   "id": "6f718173-0442-4876-89db-4c997b0f3cdb",
   "metadata": {},
   "source": [
    "**An error will occur if the key does not exist in the dictionary:**"
   ]
  },
  {
   "cell_type": "code",
   "execution_count": null,
   "id": "ff571e03-231d-4f87-aef1-1510b17e96a3",
   "metadata": {},
   "outputs": [],
   "source": [
    "students[\"Amy\"]"
   ]
  },
  {
   "cell_type": "markdown",
   "id": "f91fe682-fbe4-48a3-afb8-91ed30b88f2f",
   "metadata": {},
   "source": [
    "**Add new items:**"
   ]
  },
  {
   "cell_type": "code",
   "execution_count": null,
   "id": "03f64e14-01ff-4727-8762-ae6b5f133412",
   "metadata": {},
   "outputs": [],
   "source": [
    "students[\"Jane Davis\"] = 4\n",
    "students"
   ]
  },
  {
   "cell_type": "markdown",
   "id": "f23bc306-9f76-4e10-af4b-32ace983bbed",
   "metadata": {},
   "source": [
    "**The value of a key can be overwritten. Also note that values of a dictionary are not necessarily unique:**"
   ]
  },
  {
   "cell_type": "code",
   "execution_count": null,
   "id": "7dbf3f89-bff0-4156-a8dc-68d90ef48db1",
   "metadata": {},
   "outputs": [],
   "source": [
    "students[\"Bob Johnson\"] = 5\n",
    "students"
   ]
  },
  {
   "cell_type": "markdown",
   "id": "283fcc74-bdec-4177-b155-2c2168c1a350",
   "metadata": {},
   "source": [
    "**$\\longrightarrow$ This indicates that the keys should be possibly unique when constructing a dictionary.**"
   ]
  },
  {
   "cell_type": "markdown",
   "id": "71eee870-1fc6-417b-8e0e-11f2fb9ff307",
   "metadata": {},
   "source": [
    "**Get all keys of a dictionary:**"
   ]
  },
  {
   "cell_type": "code",
   "execution_count": null,
   "id": "ecf7f380-801c-40f0-a3ca-347c0b5c20c0",
   "metadata": {},
   "outputs": [],
   "source": [
    "students.keys()"
   ]
  },
  {
   "cell_type": "code",
   "execution_count": null,
   "id": "694acf13-7783-4990-9c42-04c745078f87",
   "metadata": {},
   "outputs": [],
   "source": [
    "list(students.keys())"
   ]
  },
  {
   "cell_type": "markdown",
   "id": "bde300f7-cba8-437f-b63a-149fe5abb37a",
   "metadata": {},
   "source": [
    "**Get all values of a dictionary:**"
   ]
  },
  {
   "cell_type": "code",
   "execution_count": null,
   "id": "89a2b4ca-4c02-41ff-ae7a-cfc95e47ac45",
   "metadata": {},
   "outputs": [],
   "source": [
    "students.values()"
   ]
  },
  {
   "cell_type": "markdown",
   "id": "c455654f-6c96-42f7-954e-d7f1c91f5af0",
   "metadata": {},
   "source": [
    "**Get all key-value pairs of a dictionary:**"
   ]
  },
  {
   "cell_type": "code",
   "execution_count": null,
   "id": "8a964d61-38ef-4075-9154-2938dc0de3a6",
   "metadata": {},
   "outputs": [],
   "source": [
    "students.items()"
   ]
  },
  {
   "cell_type": "markdown",
   "id": "3f70b0c8-0932-4138-bd14-1560da188d51",
   "metadata": {},
   "source": [
    "**Delete elements of a dictionary:**"
   ]
  },
  {
   "cell_type": "code",
   "execution_count": null,
   "id": "74192f36-6eb0-4ae3-b15e-cae6b74a5368",
   "metadata": {},
   "outputs": [],
   "source": [
    "del students[\"Amy Smith\"]\n",
    "students"
   ]
  },
  {
   "cell_type": "markdown",
   "id": "8f108a2d-1366-4f4f-ba83-885b23f2224f",
   "metadata": {},
   "source": [
    "# 7. Mutability"
   ]
  },
  {
   "cell_type": "code",
   "execution_count": null,
   "id": "5b70e60e-3027-4d40-84d4-b4ba76e244fd",
   "metadata": {},
   "outputs": [],
   "source": [
    "name = \"Chris\"\n",
    "name"
   ]
  },
  {
   "cell_type": "code",
   "execution_count": null,
   "id": "be161a60-fe73-4423-96bb-5b33e123eee4",
   "metadata": {},
   "outputs": [],
   "source": [
    "name = \"Johnson\"\n",
    "name"
   ]
  },
  {
   "cell_type": "code",
   "execution_count": null,
   "id": "8700326b-1c0a-47f9-b2b8-27ffd340751b",
   "metadata": {},
   "outputs": [],
   "source": [
    "name[0] = \"K\""
   ]
  }
 ],
 "metadata": {
  "kernelspec": {
   "display_name": "Python 3",
   "language": "python",
   "name": "python3"
  },
  "language_info": {
   "codemirror_mode": {
    "name": "ipython",
    "version": 3
   },
   "file_extension": ".py",
   "mimetype": "text/x-python",
   "name": "python",
   "nbconvert_exporter": "python",
   "pygments_lexer": "ipython3",
   "version": "3.8.8"
  }
 },
 "nbformat": 4,
 "nbformat_minor": 5
}
