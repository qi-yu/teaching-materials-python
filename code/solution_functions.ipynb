{
 "cells": [
  {
   "cell_type": "markdown",
   "id": "336a0ee8-e0e7-405e-8c61-2b85e6eb46ce",
   "metadata": {},
   "source": [
    "<font color=\"grey\">Qi Yu (University of Konstanz)  |  ZHAW, March 03-04, 2022</font>"
   ]
  },
  {
   "cell_type": "markdown",
   "id": "5f65e4ef-7adc-453a-a08b-71ae807e4558",
   "metadata": {},
   "source": [
    "# Hands-on: Functions"
   ]
  },
  {
   "cell_type": "markdown",
   "id": "695ef560-d824-4c67-98b1-17dd58d227cb",
   "metadata": {},
   "source": [
    "# SAMPLE SOLUTION"
   ]
  },
  {
   "cell_type": "markdown",
   "id": "510e7326-82c0-4b6c-a25d-8023163e1d19",
   "metadata": {},
   "source": [
    "## Task 1:"
   ]
  },
  {
   "cell_type": "markdown",
   "id": "2354d991-17f8-4f21-9db8-6f42f9b52d3b",
   "metadata": {},
   "source": [
    "The following components are given below:\n",
    "\n",
    "1. Two ```list1``` and ```list2```, each element of which is a tuple composing of a word and its word category.\n",
    "2. The function ```get_word()``` that takes two arguments:\n",
    "    1. ```l```, which will be one of the lists from ```list1``` and ```list2``` depending on the user's choice;\n",
    "    2. ```categ```, which is a word category defined by user. \n",
    "    \n",
    "Please complete the function ```get_word()``` so that for a list chosen by the user, only the words with the category defined by the user are printed out.\n",
    "\n",
    "E.g., If the user passes ```list1``` and ```noun``` as arguments, only the word ```computer``` should be printed out. If the user passes ```list2``` and ```noun``` as arguments, then ```house``` should be printed out instead."
   ]
  },
  {
   "cell_type": "code",
   "execution_count": 5,
   "id": "4e7b9489-1cbd-4b1b-b7bc-1acbe2710d13",
   "metadata": {},
   "outputs": [],
   "source": [
    "list1 = [(\"black\", \"adjective\"), (\"computer\", \"noun\"), (\"sunny\", \"adjective\"), (\"on\", \"preposition\")]\n",
    "list2 = [(\"house\", \"noun\"), (\"quickly\", \"adverb\"), (\"happy\", \"adjective\"), (\"sleep\", \"verb\"), (\"really\", \"adverb\")]"
   ]
  },
  {
   "cell_type": "code",
   "execution_count": 13,
   "id": "dbff7412-44ba-4fc4-931f-70f9f26e40c3",
   "metadata": {},
   "outputs": [],
   "source": [
    "def get_word(l, categ):\n",
    "    for i, j in l: \n",
    "        if j == categ:\n",
    "            print(i)"
   ]
  },
  {
   "cell_type": "markdown",
   "id": "d152b3bb-4bd3-4f27-b9c3-517a7c2371d6",
   "metadata": {},
   "source": [
    "Use the following lines to check your result: \n",
    "- The first line should only print out ```computer```;\n",
    "- The second line should print out ```quickly``` and ```really```."
   ]
  },
  {
   "cell_type": "code",
   "execution_count": 14,
   "id": "db17d4ae-6671-4a91-89cc-726e0a22bc86",
   "metadata": {},
   "outputs": [
    {
     "name": "stdout",
     "output_type": "stream",
     "text": [
      "computer\n"
     ]
    }
   ],
   "source": [
    "get_word(list1, \"noun\")"
   ]
  },
  {
   "cell_type": "code",
   "execution_count": 18,
   "id": "6bb1914f-3f12-42ea-9a0f-62c87493546e",
   "metadata": {},
   "outputs": [
    {
     "name": "stdout",
     "output_type": "stream",
     "text": [
      "quickly\n",
      "really\n"
     ]
    }
   ],
   "source": [
    "get_word(list2, \"adverb\")"
   ]
  },
  {
   "cell_type": "markdown",
   "id": "b1f8900b-5e89-4ddf-b82a-a5b05cf0329f",
   "metadata": {},
   "source": [
    "## Task 2:"
   ]
  },
  {
   "cell_type": "markdown",
   "id": "952ae869-462b-4e10-8cfa-6c41b7015e47",
   "metadata": {},
   "source": [
    "Write the function named ```concatenate``` that can take any amount of strings as arguments, and returns the concatenation of these strings.\n",
    "\n",
    "E.g., ```concatenate(\"hello\", \"world\")``` should return ```helloworld```."
   ]
  },
  {
   "cell_type": "code",
   "execution_count": 8,
   "id": "657e3671-465f-4392-9db4-3d42e321d04f",
   "metadata": {},
   "outputs": [],
   "source": [
    "def concatenate(*args):\n",
    "    concat = \"\"\n",
    "    for i in args:\n",
    "        concat += i\n",
    "    \n",
    "    return(concat)"
   ]
  },
  {
   "cell_type": "markdown",
   "id": "950095a2-f8bb-43a5-9bf7-f37cbe3d20b0",
   "metadata": {},
   "source": [
    "Use the following lines to check your result: \n",
    "- The first line should return ```abc```;\n",
    "- The second line should return ```abcde```."
   ]
  },
  {
   "cell_type": "code",
   "execution_count": 10,
   "id": "3408bb26-5f9d-47dc-82b9-dbd982ed146c",
   "metadata": {},
   "outputs": [
    {
     "data": {
      "text/plain": [
       "'abc'"
      ]
     },
     "execution_count": 10,
     "metadata": {},
     "output_type": "execute_result"
    }
   ],
   "source": [
    "concatenate(\"a\", \"b\", \"c\")"
   ]
  },
  {
   "cell_type": "code",
   "execution_count": 9,
   "id": "2682ee6e-6b81-4fa6-bdcb-60418b1384b6",
   "metadata": {},
   "outputs": [
    {
     "data": {
      "text/plain": [
       "'abcde'"
      ]
     },
     "execution_count": 9,
     "metadata": {},
     "output_type": "execute_result"
    }
   ],
   "source": [
    "concatenate(\"a\", \"b\", \"c\", \"d\", \"e\")"
   ]
  }
 ],
 "metadata": {
  "kernelspec": {
   "display_name": "Python 3",
   "language": "python",
   "name": "python3"
  },
  "language_info": {
   "codemirror_mode": {
    "name": "ipython",
    "version": 3
   },
   "file_extension": ".py",
   "mimetype": "text/x-python",
   "name": "python",
   "nbconvert_exporter": "python",
   "pygments_lexer": "ipython3",
   "version": "3.8.8"
  }
 },
 "nbformat": 4,
 "nbformat_minor": 5
}
