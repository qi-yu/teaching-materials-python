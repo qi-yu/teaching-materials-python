{
 "cells": [
  {
   "cell_type": "markdown",
   "id": "2d81b9c2-114d-4ac4-b194-ce0538f10694",
   "metadata": {},
   "source": [
    "<font color=\"grey\">Qi Yu (University of Konstanz)  |  ZHAW, March 03-04, 2022</font>"
   ]
  },
  {
   "cell_type": "markdown",
   "id": "7b81f8d2-78c1-41f7-9992-2ae1f26bd9d5",
   "metadata": {},
   "source": [
    "# Hands-On: Control Structures\n",
    "# SAMPLE SOLUTION"
   ]
  },
  {
   "cell_type": "markdown",
   "id": "32c51ad0-bd72-4aad-a4d7-dad06e335ec9",
   "metadata": {
    "tags": []
   },
   "source": [
    "## Task 1\n",
    "\n",
    "**Please use ```for``` and ```range()``` to print out the following pattern:**\n",
    "\n",
    "    *\n",
    "\n",
    "    **\n",
    "\n",
    "    ***\n",
    "\n",
    "    ****\n",
    "\n",
    "    *****"
   ]
  },
  {
   "cell_type": "code",
   "execution_count": 2,
   "id": "9c43063c-bdda-4b39-bdcb-dd8f8d054cf4",
   "metadata": {},
   "outputs": [
    {
     "name": "stdout",
     "output_type": "stream",
     "text": [
      "\n",
      "*\n",
      "**\n",
      "***\n",
      "****\n",
      "*****\n"
     ]
    }
   ],
   "source": [
    "for i in range(0, 6):\n",
    "    print(\"*\"*i)"
   ]
  },
  {
   "cell_type": "markdown",
   "id": "e5e4a3ee-bbe8-467d-b721-8593ad1fd8f2",
   "metadata": {},
   "source": [
    "## Task 2\n",
    "\n",
    "**Please use ```for``` and ```range()``` to print out the following pattern:**\n",
    "\n",
    "    0 \n",
    "    \n",
    "    0 1\n",
    "    \n",
    "    0 1 2 \n",
    "    \n",
    "    0 1 2 3 \n",
    "    \n",
    "    0 1 2 3 4"
   ]
  },
  {
   "cell_type": "code",
   "execution_count": 14,
   "id": "7d0db99c-1852-476c-aa0c-677f55c78e83",
   "metadata": {},
   "outputs": [
    {
     "name": "stdout",
     "output_type": "stream",
     "text": [
      "0 \n",
      "0 1 \n",
      "0 1 2 \n",
      "0 1 2 3 \n",
      "0 1 2 3 4 \n"
     ]
    }
   ],
   "source": [
    "for i in range(1, 6):\n",
    "    for i in range(i):\n",
    "        print(i, end=\" \")\n",
    "    print()"
   ]
  },
  {
   "cell_type": "markdown",
   "id": "f811bc5e-747a-4b47-9b12-7f295d0752b1",
   "metadata": {},
   "source": [
    "## Task 3"
   ]
  },
  {
   "cell_type": "markdown",
   "id": "83a69f1f-72c8-4058-b1db-0f2c314e8181",
   "metadata": {},
   "source": [
    "**1. Place a ```break``` statement within the ```for```-loop so that only the first 5 letters in the word \"absolutely\", i.e., \"absol\", are printed.**"
   ]
  },
  {
   "cell_type": "code",
   "execution_count": 16,
   "id": "d9d76dca-1595-4dc9-baf3-d6d08c0e8218",
   "metadata": {},
   "outputs": [
    {
     "name": "stdout",
     "output_type": "stream",
     "text": [
      "a\n",
      "b\n",
      "s\n",
      "o\n",
      "l\n"
     ]
    }
   ],
   "source": [
    "word = \"absolutely\"\n",
    "count = 0\n",
    "\n",
    "for i in word:\n",
    "    print(i)\n",
    "    count += 1\n",
    "    \n",
    "    if count > 4:\n",
    "        break"
   ]
  },
  {
   "cell_type": "markdown",
   "id": "3d2372dd-bf27-48d7-bb75-d0e0290cca2e",
   "metadata": {},
   "source": [
    "**2. Place a ```continue``` statement in the ```for```-loop so that only consonants (i.e., letters that are not in ```vowel```) of the word \"absolutely\" are printed.**"
   ]
  },
  {
   "cell_type": "code",
   "execution_count": 17,
   "id": "16fd5448-cb6c-4d15-ad69-4e99532bc40e",
   "metadata": {},
   "outputs": [
    {
     "name": "stdout",
     "output_type": "stream",
     "text": [
      "b\n",
      "s\n",
      "l\n",
      "t\n",
      "l\n",
      "y\n"
     ]
    }
   ],
   "source": [
    "word = \"absolutely\"\n",
    "vowel = \"aeiou\"\n",
    "\n",
    "for i in word:\n",
    "    if i in vowel:\n",
    "        continue\n",
    "    print(i)\n",
    "    "
   ]
  }
 ],
 "metadata": {
  "kernelspec": {
   "display_name": "Python 3",
   "language": "python",
   "name": "python3"
  },
  "language_info": {
   "codemirror_mode": {
    "name": "ipython",
    "version": 3
   },
   "file_extension": ".py",
   "mimetype": "text/x-python",
   "name": "python",
   "nbconvert_exporter": "python",
   "pygments_lexer": "ipython3",
   "version": "3.8.8"
  }
 },
 "nbformat": 4,
 "nbformat_minor": 5
}
