{
 "cells": [
  {
   "cell_type": "markdown",
   "id": "7f4e3409-f628-41d3-942b-23d80bd019f5",
   "metadata": {},
   "source": [
    "<font color=\"grey\">Qi Yu (University of Konstanz)  |  ZHAW, March 03-04, 2022</font>"
   ]
  },
  {
   "cell_type": "markdown",
   "id": "457f620c-52b5-4072-8032-5d53c6e12e4b",
   "metadata": {
    "tags": []
   },
   "source": [
    "# 1. Branching"
   ]
  },
  {
   "cell_type": "markdown",
   "id": "5678786f-64b7-4dde-9b46-f254841a3629",
   "metadata": {},
   "source": [
    "## 1.1 Simple ```if```-condition:"
   ]
  },
  {
   "cell_type": "code",
   "execution_count": null,
   "id": "f62ab777-85a7-441a-a8bb-e0d9839c85f3",
   "metadata": {},
   "outputs": [],
   "source": [
    "weather = [\"sunny\", \"rainy\", \"snowy\", \"cloudy\"]\n",
    "index = 1"
   ]
  },
  {
   "cell_type": "code",
   "execution_count": null,
   "id": "92a3522a-aab9-450f-898a-5142c703e321",
   "metadata": {},
   "outputs": [],
   "source": [
    "if weather[index] == \"rainy\":\n",
    "    print(\"True!\")"
   ]
  },
  {
   "cell_type": "code",
   "execution_count": null,
   "id": "b160434f-9b6e-494f-a509-b97796691bfd",
   "metadata": {},
   "outputs": [],
   "source": [
    "if weather[index] == \"sunny\":\n",
    "    print(\"True!\")"
   ]
  },
  {
   "cell_type": "markdown",
   "id": "6afb5e97-3cd7-4e2d-8995-a2aa5f386651",
   "metadata": {},
   "source": [
    "**Note the indentation in the block above! When there is no indentation, an error message would be produced.**"
   ]
  },
  {
   "cell_type": "code",
   "execution_count": null,
   "id": "49ff742a-04b8-4863-adaf-4848135c4228",
   "metadata": {},
   "outputs": [],
   "source": [
    "if weather[index] == \"rainy\":\n",
    "print(\"True!\")"
   ]
  },
  {
   "cell_type": "markdown",
   "id": "833912b4-fcd8-4000-81cb-50496c259946",
   "metadata": {},
   "source": [
    "## 1.2 ```if-elif-else``` block:"
   ]
  },
  {
   "cell_type": "code",
   "execution_count": null,
   "id": "ab70aa86-b33e-41dd-98c2-f82aff36c040",
   "metadata": {},
   "outputs": [],
   "source": [
    "if weather[index] == \"rainy\":\n",
    "    print(\"True!\")\n",
    "else:\n",
    "    print(\"False!\")"
   ]
  },
  {
   "cell_type": "code",
   "execution_count": null,
   "id": "70ab6885-d82f-42b9-92db-406e73519b54",
   "metadata": {},
   "outputs": [],
   "source": [
    "user_input = input(\"\"\"Choose the weather and check what to do:\n",
    "                   \n",
    "                   1 - sunny\n",
    "                   2 - rainy\n",
    "                   3 - snowy\n",
    "                   4 - cloudy\n",
    "                   \n",
    "                   \"\"\")\n",
    "\n",
    "\n",
    "if user_input == \"1\":\n",
    "    print(\"Go for a walk!\")\n",
    "elif user_input == \"2\":\n",
    "    print(\"Work, work, work!\")\n",
    "elif user_input == \"3\":\n",
    "    print(\"Maybe it's time for skiing...\")\n",
    "elif user_input == \"4\":\n",
    "    print(\"Go get some dessert.\")\n",
    "else:\n",
    "    print(\"Your input is not valid.\")"
   ]
  },
  {
   "cell_type": "markdown",
   "id": "048f945d-cdb7-4055-a107-eb3ac078148c",
   "metadata": {
    "tags": []
   },
   "source": [
    "# 2. Loops"
   ]
  },
  {
   "cell_type": "markdown",
   "id": "4ad88fa4-c69d-4c01-b521-6f6daec6f7ea",
   "metadata": {},
   "source": [
    "## 2.1 ```for```"
   ]
  },
  {
   "cell_type": "code",
   "execution_count": null,
   "id": "6beceecc-dcb0-4b78-a267-d08bd8790bb2",
   "metadata": {},
   "outputs": [],
   "source": [
    "word = \"python\"\n",
    "count = 1\n",
    "\n",
    "print(\"Here are the letters in your word: \")\n",
    "for i in word:\n",
    "    print(\"Letter\", count, \":\", i)\n",
    "    count += 1"
   ]
  },
  {
   "cell_type": "markdown",
   "id": "5ae48b5e-5a63-46fa-90f7-1a96127b43d7",
   "metadata": {},
   "source": [
    "**Nested loops:**"
   ]
  },
  {
   "cell_type": "code",
   "execution_count": null,
   "id": "e22fd303-90c6-42ba-af33-86e800899cbe",
   "metadata": {},
   "outputs": [],
   "source": [
    "for i in range(1, 10):\n",
    "    for j in range(1, 10):\n",
    "        print(i * j, end=' ')\n",
    "    print()"
   ]
  },
  {
   "cell_type": "markdown",
   "id": "5ede3411-2b9f-4339-b930-cdaf96a94f71",
   "metadata": {},
   "source": [
    "**Counting using ```for``` and ```range()```:**\n",
    "\n",
    "**```range(start, stop, step)```:**\n",
    "- ```start```:  An integer number specifying at which position to start. Default is 0. **(inclusive)**\n",
    "- ```stop```:  An integer number specifying at which position to stop. **(NOT inclusive!)**\n",
    "- ```step```: An integer number specifying the incrementation. Default is 1."
   ]
  },
  {
   "cell_type": "code",
   "execution_count": null,
   "id": "a1643fd4-89dd-4e35-9091-02c49ca02e81",
   "metadata": {},
   "outputs": [],
   "source": [
    "for i in range(11):\n",
    "    print(i, end=\" \")"
   ]
  },
  {
   "cell_type": "markdown",
   "id": "a6b05fbb-4fbc-4a29-8561-d5964039c3d8",
   "metadata": {},
   "source": [
    "**Counting with incrementation values other than 1:**"
   ]
  },
  {
   "cell_type": "code",
   "execution_count": null,
   "id": "804528a3-e59e-465c-ab74-a56100bd09be",
   "metadata": {},
   "outputs": [],
   "source": [
    "for i in range(0, 50, 5):\n",
    "    print(i, end=\" \")"
   ]
  },
  {
   "cell_type": "markdown",
   "id": "4169f36a-e11f-446f-a84d-3e2b0f73a76a",
   "metadata": {},
   "source": [
    "**Counting backwards:**"
   ]
  },
  {
   "cell_type": "code",
   "execution_count": null,
   "id": "07ad355a-7296-4659-8f0a-2bbe7c5e68a8",
   "metadata": {},
   "outputs": [],
   "source": [
    "for i in range(10, 0, -1):\n",
    "    print(i, end=\" \")"
   ]
  },
  {
   "cell_type": "code",
   "execution_count": null,
   "id": "97e123a5-85ed-42f4-988c-09e4446ba7dd",
   "metadata": {},
   "outputs": [],
   "source": [
    "for i in range(10, 0, -3):\n",
    "    print(i, end=\" \")"
   ]
  },
  {
   "cell_type": "markdown",
   "id": "248b139e-89a7-4754-9718-63dde511cb39",
   "metadata": {},
   "source": [
    "## 2.2 ```while()``` "
   ]
  },
  {
   "cell_type": "code",
   "execution_count": null,
   "id": "d6019dc6-b1e8-47ed-9eca-7317b208153c",
   "metadata": {},
   "outputs": [],
   "source": [
    "word = \"Python\"\n",
    "count = 0\n",
    "\n",
    "while count < 3:\n",
    "    print(word[count])\n",
    "    count += 1"
   ]
  },
  {
   "cell_type": "markdown",
   "id": "357de2ae-5ce0-4032-86b9-e6de217bc0ce",
   "metadata": {},
   "source": [
    "# 3. ```break``` and ```continue```"
   ]
  },
  {
   "cell_type": "markdown",
   "id": "0c6913e3-f698-4856-9fd3-c945d3cd3091",
   "metadata": {},
   "source": [
    "## 3.1 ```break```"
   ]
  },
  {
   "cell_type": "code",
   "execution_count": null,
   "id": "168bd9f9-d4bc-4eed-975e-1d40f8b681d8",
   "metadata": {},
   "outputs": [],
   "source": [
    "words = [\"this\", \"is\", \"a\", \"long\", \"sentence\", \"with\", \"the\", \"length\", \"of\", \"ten\"]\n",
    "count = 0\n",
    "\n",
    "for w in words:\n",
    "    print(w)\n",
    "    count += 1\n",
    "    if count > 3:\n",
    "        break"
   ]
  },
  {
   "cell_type": "markdown",
   "id": "930ffa68-a2a4-4372-950f-2d22a2e505d9",
   "metadata": {},
   "source": [
    "## 3.2 ```continue```"
   ]
  },
  {
   "cell_type": "code",
   "execution_count": null,
   "id": "d38bee18-2884-4807-b65a-de701a269ec5",
   "metadata": {},
   "outputs": [],
   "source": [
    "words = [\"this\", \"is\", \"a\", \"long\", \"sentence\", \"with\", \"the\", \"length\", \"of\", \"ten\"]\n",
    "articles = [\"the\", \"a\", \"an\"]\n",
    "\n",
    "for w in words:\n",
    "    if w in articles: \n",
    "        continue # If the word is in \"articles\", skip it, and start the next iteration step.\n",
    "    print(w)"
   ]
  },
  {
   "cell_type": "markdown",
   "id": "8452d4e1-1ef5-40f9-9e50-487fa9d04d28",
   "metadata": {},
   "source": [
    "**Note that ```break``` and ```continue``` apply to the *smallest* enclosing loop:**\n",
    "\n",
    "**The statement ```continue``` below applies to the inner loop, not the outer.**"
   ]
  },
  {
   "cell_type": "code",
   "execution_count": null,
   "id": "d0ecc89f-d846-4f8c-90a2-94f9d5015ec0",
   "metadata": {},
   "outputs": [],
   "source": [
    "words = [\"a\", \"b\", \"c\"]\n",
    "\n",
    "for w in words:\n",
    "    for i in range(1, 5):\n",
    "        if i == 2:\n",
    "            continue\n",
    "        print(w*i)\n",
    "    print()"
   ]
  }
 ],
 "metadata": {
  "kernelspec": {
   "display_name": "Python 3",
   "language": "python",
   "name": "python3"
  },
  "language_info": {
   "codemirror_mode": {
    "name": "ipython",
    "version": 3
   },
   "file_extension": ".py",
   "mimetype": "text/x-python",
   "name": "python",
   "nbconvert_exporter": "python",
   "pygments_lexer": "ipython3",
   "version": "3.8.8"
  }
 },
 "nbformat": 4,
 "nbformat_minor": 5
}
