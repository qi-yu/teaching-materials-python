{
 "cells": [
  {
   "cell_type": "markdown",
   "id": "5be810b8-3e3d-4aa9-a9bc-04849d262762",
   "metadata": {},
   "source": [
    "<font color=\"grey\">Qi Yu (University of Konstanz)  |  ZHAW, March 03-04, 2022</font>"
   ]
  },
  {
   "cell_type": "markdown",
   "id": "608f34e1-c2ec-420a-8105-2b9cc5374b7c",
   "metadata": {},
   "source": [
    "# 1. Simple functions"
   ]
  },
  {
   "cell_type": "markdown",
   "id": "960b50ce-ec9c-40b9-a93a-e9a0c80bfbbc",
   "metadata": {},
   "source": [
    "**Below is a program mimicing two player throwing dice for 3 rounds.**\n",
    "\n",
    "```random.randint(a, b)```: Return a random integer N such that a <= N <= b"
   ]
  },
  {
   "cell_type": "code",
   "execution_count": null,
   "id": "357a7e45-3ef1-4b63-9edd-e0251177885f",
   "metadata": {},
   "outputs": [],
   "source": [
    "import random"
   ]
  },
  {
   "cell_type": "code",
   "execution_count": null,
   "id": "498dc2f9-f22f-42f8-a6aa-a3487bc14054",
   "metadata": {},
   "outputs": [],
   "source": [
    "print(\"Round 1: \")\n",
    "print(\"\\tPlayer 1:\", random.randint(1,6), \"points\")\n",
    "print(\"\\tPlayer 2:\", random.randint(1,6), \"points\")\n",
    "\n",
    "print(\"Round 2: \")\n",
    "print(\"\\tPlayer 1:\", random.randint(1,6), \"points\")\n",
    "print(\"\\tPlayer 2:\", random.randint(1,6), \"points\")\n",
    "\n",
    "print(\"Round 3: \")\n",
    "print(\"\\tPlayer 1:\", random.randint(1,6), \"points\")\n",
    "print(\"\\tPlayer 2:\", random.randint(1,6), \"points\")"
   ]
  },
  {
   "cell_type": "markdown",
   "id": "cae55d2a-848d-45b1-b9a4-c5e37740a02f",
   "metadata": {},
   "source": [
    "**The last two lines in each round are repeated. This can be optimized by using functions.**\n",
    "\n",
    "**Functions are defined in Python using ```def```.**"
   ]
  },
  {
   "cell_type": "code",
   "execution_count": null,
   "id": "0789bca7-d177-4c4e-9c5e-7c02f24ba9c7",
   "metadata": {},
   "outputs": [],
   "source": [
    "def dice_game(): \n",
    "    print(\"\\tPlayer 1:\", random.randint(1,6), \"points\")\n",
    "    print(\"\\tPlayer 2:\", random.randint(1,6), \"points\")"
   ]
  },
  {
   "cell_type": "code",
   "execution_count": null,
   "id": "a24faafd-fc9e-4219-8c18-6b1d0cf384b0",
   "metadata": {},
   "outputs": [],
   "source": [
    "print(\"Round 1:\")\n",
    "dice_game()\n",
    "print(\"Round 2:\")\n",
    "dice_game()\n",
    "print(\"Round 3:\")\n",
    "dice_game()"
   ]
  },
  {
   "cell_type": "markdown",
   "id": "e5ab6d9e-1c19-4dcd-9e0b-0f941eca0db6",
   "metadata": {},
   "source": [
    "# 2. Functions that return values:"
   ]
  },
  {
   "cell_type": "markdown",
   "id": "613bc5fd-39b1-49ce-a1b6-53489bb4f55b",
   "metadata": {},
   "source": [
    "**The following part demonstrates why functions that return values are for many cases useful. This is a simple function:**"
   ]
  },
  {
   "cell_type": "code",
   "execution_count": null,
   "id": "42583b8c-de71-4663-8e51-fbd5d5372253",
   "metadata": {},
   "outputs": [],
   "source": [
    "def myfunc():\n",
    "    mystr = 'Colorless green ideas sleep furiously'\n",
    "    print(mystr)\n",
    "\n",
    "myfunc()"
   ]
  },
  {
   "cell_type": "markdown",
   "id": "8d536dae-b0ed-49cf-bba0-d145d96990f1",
   "metadata": {},
   "source": [
    "**However, when the user wants to operate on ```mystr```, it won't work:**"
   ]
  },
  {
   "cell_type": "code",
   "execution_count": null,
   "id": "77d536f6-3430-4330-b7ce-1af739b458e3",
   "metadata": {},
   "outputs": [],
   "source": [
    "mystr += \".\""
   ]
  },
  {
   "cell_type": "markdown",
   "id": "2777c0a5-b9e8-40ab-88c3-dac5f9a3bf95",
   "metadata": {},
   "source": [
    "**The reason is that ```mystr``` is a *local variable* that is only defined within the function, but not globally.**\n",
    "\n",
    "**However, this can be solved by constructing function with a ```return```:**"
   ]
  },
  {
   "cell_type": "code",
   "execution_count": null,
   "id": "aae7ad0a-cbab-4114-b5ee-16f822ca3bd4",
   "metadata": {},
   "outputs": [],
   "source": [
    "def myfunc_2():\n",
    "    mystr = 'Colorless green ideas sleep furiously'\n",
    "    print(mystr)\n",
    "    return mystr\n",
    "\n",
    "x = myfunc_2()\n",
    "x += \" !!!\"\n",
    "print(x)"
   ]
  },
  {
   "cell_type": "markdown",
   "id": "a88edc1c-9ece-482a-b776-cb47d45b8a21",
   "metadata": {},
   "source": [
    "**Note that ```return``` exits a function, and all statements after ```return``` will not be executed:**"
   ]
  },
  {
   "cell_type": "code",
   "execution_count": null,
   "id": "00fde4d6-2c80-4fb4-9650-f44edd4cdcac",
   "metadata": {},
   "outputs": [],
   "source": [
    "def myfunc():\n",
    "    mystr = 'Colorless green ideas sleep furiously'\n",
    "    print(mystr)\n",
    "    return mystr\n",
    "    print(\"Print out this line, too.\")\n",
    "\n",
    "myfunc()"
   ]
  },
  {
   "cell_type": "markdown",
   "id": "c963f303-65a9-4d17-8f7f-017aed1665c5",
   "metadata": {},
   "source": [
    "**A function can also return more than one values. Multiple values are separated by comma - A special syntax of Python:**"
   ]
  },
  {
   "cell_type": "code",
   "execution_count": null,
   "id": "0198e9ee-06e3-40c3-a51a-49bec020620c",
   "metadata": {},
   "outputs": [],
   "source": [
    "def myfunc():\n",
    "    x = input('First string: ')\n",
    "    y = input('Second string: ')\n",
    "\n",
    "    # concatenate strings\n",
    "    z = x + ' ' + y\n",
    "\n",
    "    # return three values\n",
    "    return len(x), len(y), z\n",
    "\n",
    "a, b, c = myfunc() # 3 returned values\n",
    "\n",
    "#print the 3 values\n",
    "print('a =', a)\n",
    "print('b =', b)\n",
    "print('c =', c)\n"
   ]
  },
  {
   "cell_type": "markdown",
   "id": "f64cd759-6a78-4413-9060-8222a5019761",
   "metadata": {},
   "source": [
    "# 3. Functions that take arguments:"
   ]
  },
  {
   "cell_type": "markdown",
   "id": "878fb9ba-5be0-4f84-a2e3-7c74e6ec69f0",
   "metadata": {},
   "source": [
    "## 3.1 Arguments"
   ]
  },
  {
   "cell_type": "code",
   "execution_count": null,
   "id": "ab1dd830-23c9-4f13-a241-92146b81fb91",
   "metadata": {},
   "outputs": [],
   "source": [
    "def add(a, b):\n",
    "    return a + b #return the concatenation OR addition of those values"
   ]
  },
  {
   "cell_type": "code",
   "execution_count": null,
   "id": "bee4a146-aa7e-4fb0-96d1-6b83fb87300c",
   "metadata": {},
   "outputs": [],
   "source": [
    "add(3, 10)"
   ]
  },
  {
   "cell_type": "code",
   "execution_count": null,
   "id": "18fc8374-d613-45bc-81a1-eed0b458e345",
   "metadata": {},
   "outputs": [],
   "source": [
    "add('black','board')"
   ]
  },
  {
   "cell_type": "markdown",
   "id": "8fc9053c-eef9-408c-b384-c6d39ec3cc61",
   "metadata": {},
   "source": [
    "## 3.2 Different ways of specifying arguments:"
   ]
  },
  {
   "cell_type": "code",
   "execution_count": null,
   "id": "d299e29d-cc05-4540-87c5-06a051c6d644",
   "metadata": {},
   "outputs": [],
   "source": [
    "add(a=\"black\", b=\"board\")"
   ]
  },
  {
   "cell_type": "code",
   "execution_count": null,
   "id": "f5e1f717-1247-4bbe-b1ef-10a3314f5b2e",
   "metadata": {},
   "outputs": [],
   "source": [
    "add(b=\"board\", a=\"black\")"
   ]
  },
  {
   "cell_type": "markdown",
   "id": "787035c6-b84b-4e2b-b429-21c70b58252c",
   "metadata": {},
   "source": [
    "**Compare the last cell with the following cell:**"
   ]
  },
  {
   "cell_type": "code",
   "execution_count": null,
   "id": "60d9001a-9bc8-4b2c-b013-2fd5687790d9",
   "metadata": {},
   "outputs": [],
   "source": [
    "add(\"board\", \"black\")"
   ]
  },
  {
   "cell_type": "markdown",
   "id": "1ae5674d-033b-4138-9e0e-4ebd6e2be56e",
   "metadata": {},
   "source": [
    "## 3.3 Specifying default values of arguments:"
   ]
  },
  {
   "cell_type": "code",
   "execution_count": null,
   "id": "cb438fbd-16a8-4842-b613-2380ee797c28",
   "metadata": {},
   "outputs": [],
   "source": [
    "def f(x, y='oops'):\n",
    "    return x + ' ' + y"
   ]
  },
  {
   "cell_type": "code",
   "execution_count": null,
   "id": "ced40bd0-4654-42bd-8e00-9d19694e9d93",
   "metadata": {},
   "outputs": [],
   "source": [
    "f('black')"
   ]
  },
  {
   "cell_type": "code",
   "execution_count": null,
   "id": "b4480f1e-40a0-4728-ad04-1ba239d12b2b",
   "metadata": {},
   "outputs": [],
   "source": [
    "f('black','board')"
   ]
  },
  {
   "cell_type": "markdown",
   "id": "02aea565-96e6-4e30-b55f-917bc465c0e6",
   "metadata": {},
   "source": [
    "## 3.4 Unspecified number of arguments:"
   ]
  },
  {
   "cell_type": "code",
   "execution_count": null,
   "id": "a9c951f9-8d69-4d6f-a28a-85de368727e0",
   "metadata": {},
   "outputs": [],
   "source": [
    "def func(*args,**kwargs):\n",
    "    for a in args:\n",
    "        print(a)  #print unnamed args\n",
    "        \n",
    "    for k in kwargs:\n",
    "        print(k,'\\t',kwargs[k])  #print named args"
   ]
  },
  {
   "cell_type": "code",
   "execution_count": null,
   "id": "84df7498-1508-443f-8b21-06c00ac5d7a5",
   "metadata": {},
   "outputs": [],
   "source": [
    "func(3, 6, 8, x='wow', y=3.5, z=\"hello\")"
   ]
  },
  {
   "cell_type": "markdown",
   "id": "9cf6adc5-be4f-4805-afb0-ee29bd2b0250",
   "metadata": {},
   "source": [
    "# Hands-on:"
   ]
  },
  {
   "cell_type": "markdown",
   "id": "a25353b2-9e5d-452e-a525-8989419180f8",
   "metadata": {},
   "source": [
    "**A program for printing out all adjectives in the list:**"
   ]
  },
  {
   "cell_type": "code",
   "execution_count": null,
   "id": "d4c11f8e-b54e-42aa-9c9a-db8490e06010",
   "metadata": {},
   "outputs": [],
   "source": [
    "list1 = [(\"black\", \"adj\"), (\"computer\", \"noun\"), (\"sunny\", \"adj\"), (\"on\", \"prep\")]\n",
    "\n",
    "for word, categ in list1:\n",
    "    if categ == \"adj\":\n",
    "        print(word)"
   ]
  },
  {
   "cell_type": "code",
   "execution_count": null,
   "id": "679ec2b4-3bd3-4b9f-9a5c-4428aeecb793",
   "metadata": {},
   "outputs": [],
   "source": [
    "list2 = [(\"house\", \"noun\"), (\"quickly\", \"adv\"), (\"happy\", \"adj\"), (\"sleep\", \"verb\")]\n",
    "\n",
    "for word, categ in list2:\n",
    "    if categ == \"adj\":\n",
    "        print(word)"
   ]
  }
 ],
 "metadata": {
  "kernelspec": {
   "display_name": "Python 3",
   "language": "python",
   "name": "python3"
  },
  "language_info": {
   "codemirror_mode": {
    "name": "ipython",
    "version": 3
   },
   "file_extension": ".py",
   "mimetype": "text/x-python",
   "name": "python",
   "nbconvert_exporter": "python",
   "pygments_lexer": "ipython3",
   "version": "3.8.8"
  }
 },
 "nbformat": 4,
 "nbformat_minor": 5
}
