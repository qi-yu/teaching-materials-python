{
 "cells": [
  {
   "cell_type": "markdown",
   "id": "7ca49497-6c09-4e18-88de-72632000565d",
   "metadata": {},
   "source": [
    "<font color=\"grey\">Qi Yu (University of Konstanz)  |  ZHAW, March 03-04, 2022</font>"
   ]
  },
  {
   "cell_type": "markdown",
   "id": "eae44c55-4371-434f-a863-2ee22251d817",
   "metadata": {},
   "source": [
    "# 1. Using Regex to match complex patterns"
   ]
  },
  {
   "cell_type": "code",
   "execution_count": null,
   "id": "e1d9447e-16ed-448f-b371-92c52df60a3f",
   "metadata": {},
   "outputs": [],
   "source": [
    "import re"
   ]
  },
  {
   "cell_type": "code",
   "execution_count": null,
   "id": "383ea6d1-1eb5-4ca3-8dd9-651e58bedb44",
   "metadata": {},
   "outputs": [],
   "source": [
    "string_list = [\n",
    "    \"ab\", \n",
    "    \"acb\",\n",
    "    \"adverb\",\n",
    "    \"arab\",\n",
    "    \"a034deb\"\n",
    "]\n",
    "\n",
    "for s in string_list:\n",
    "    if re.search(\"a.*b\", s):\n",
    "        print(s, \": MATCHED\")\n",
    "    else:\n",
    "        print(s, \": NOT MATCHED\")\n"
   ]
  },
  {
   "cell_type": "markdown",
   "id": "f0ac51b9-3715-413a-adb2-ef994ab67f5e",
   "metadata": {},
   "source": [
    "# 2. Searching for patterns"
   ]
  },
  {
   "cell_type": "markdown",
   "id": "2b012968-df0d-448f-8baf-c805b74b960f",
   "metadata": {},
   "source": [
    "## 2.1 ```search()```"
   ]
  },
  {
   "cell_type": "markdown",
   "id": "767bdb10-e9b2-46dc-8427-b1840ac689c7",
   "metadata": {},
   "source": [
    "**Scaning through a string and look for the <ins>first</ins> location where the regular expression pattern produces a match.**"
   ]
  },
  {
   "cell_type": "code",
   "execution_count": null,
   "id": "35ad8915-ca40-457b-8ac8-323caae4d247",
   "metadata": {},
   "outputs": [],
   "source": [
    "search1 = re.search(\"ab\", \"about our lab\")\n",
    "search2 = re.search(\"a.*b\", \"hat\")\n",
    "print(\"SEARCH 1:\", search1)\n",
    "print(\"SEARCH 2:\", search2)"
   ]
  },
  {
   "cell_type": "markdown",
   "id": "11b14f46-8f9c-4bb6-a7d2-4dea4375284f",
   "metadata": {},
   "source": [
    "**Note that ```search()``` returns a ```match()``` object, which in turn has several methods callable. E.g.,:**\n",
    "\n",
    "1. ```group()```\n",
    "1. ```start()```\n",
    "1. ```end()```\n",
    "1. ```span()```\n",
    "\n",
    "**If there is no match, ```None``` will be returned.**"
   ]
  },
  {
   "cell_type": "code",
   "execution_count": null,
   "id": "ce5c62b2-8408-47d9-b08a-3134487edaad",
   "metadata": {},
   "outputs": [],
   "source": [
    "search = re.search(\"a.*b\", \"carbon\")\n",
    "if search:\n",
    "    print(search)\n",
    "    print(search.group()) # return the matched part of the strings\n",
    "    print(search.start()) # return the starting index of the matched part\n",
    "    print(search.end()) # return the ending index of the matched part (NB: Ending index is the index of the character after the final character of the pattern - same as \":\")\n",
    "    print(search.span()) # return both the starting index and the ending index of the matched part"
   ]
  },
  {
   "cell_type": "markdown",
   "id": "53ca05de-6c5c-41d2-be7e-6455ae1218c4",
   "metadata": {},
   "source": [
    "**Also note that the search is done in a greedy way:**\n",
    "\n",
    "The matched part below is ```an arabic art b```, not only ```an arab```."
   ]
  },
  {
   "cell_type": "code",
   "execution_count": null,
   "id": "b749187f-f798-4ed5-8bd5-f15992b118e7",
   "metadata": {},
   "outputs": [],
   "source": [
    "print(re.search(\"a.*b\", \"an arabic art book\"))"
   ]
  },
  {
   "cell_type": "markdown",
   "id": "d623b138-8e4f-4edf-b690-d1741f7fdf5a",
   "metadata": {
    "tags": []
   },
   "source": [
    "## 2.2 ```findall()```"
   ]
  },
  {
   "cell_type": "markdown",
   "id": "c158ce15-3de5-4ff3-b3d1-444e1f05b8a1",
   "metadata": {},
   "source": [
    "**Return all non-overlapping matches of pattern in a string.**\n",
    "- If matched: returns all instances of the match as a list. \n",
    "- If no match: returns an empty list."
   ]
  },
  {
   "cell_type": "code",
   "execution_count": null,
   "id": "6ecb5a4b-ba3d-48d9-91cc-a68b93fc3e69",
   "metadata": {},
   "outputs": [],
   "source": [
    "findall1 = re.findall(\"in\", \"Lina in China\")\n",
    "findall2 = re.findall(\"in\", \"Luna from Chile\")\n",
    "print(findall1)\n",
    "print(findall2)"
   ]
  },
  {
   "cell_type": "markdown",
   "id": "c0bcfa7e-369a-472b-baae-0614d7a545a2",
   "metadata": {},
   "source": [
    "## 2.3 ```fullmatch()```"
   ]
  },
  {
   "cell_type": "markdown",
   "id": "6aad7965-8a33-48e8-a9bb-0bb832a56f9b",
   "metadata": {},
   "source": [
    "**Check if the whole string matches the regular expression pattern.**\n",
    "- If matched: returns a corresponding match object. \n",
    "- If the string does not match the pattern: returns ```None```. "
   ]
  },
  {
   "cell_type": "code",
   "execution_count": null,
   "id": "ef6b9fbb-40d1-4f5c-a34e-9314328f79a0",
   "metadata": {},
   "outputs": [],
   "source": [
    "pattern = \"(the|a)\\sstory\\sof\\s[Aa]lice\" \n",
    "string1 = \"the story of alice\"\n",
    "string2 = \"I read the story of alice\"\n",
    "\n",
    "match1 = re.fullmatch(pattern, string1)\n",
    "print(\"RESULT 1:\", match1)\n",
    "\n",
    "match2 = re.fullmatch(pattern, string2)\n",
    "print(\"RESULT 2:\", match2)"
   ]
  },
  {
   "cell_type": "markdown",
   "id": "ac05d01b-29c7-414f-b8b9-779fef7af8cb",
   "metadata": {},
   "source": [
    "## 2.4 ```sub()```"
   ]
  },
  {
   "cell_type": "markdown",
   "id": "64139567-ed32-4e9b-bdaf-51afb6a0ccf6",
   "metadata": {},
   "source": [
    "**Replace the matches with another string.**"
   ]
  },
  {
   "cell_type": "code",
   "execution_count": null,
   "id": "6690ce7d-9df1-41dd-b587-fe555ac1f2e4",
   "metadata": {},
   "outputs": [],
   "source": [
    "mystr = \"abc xxx abbc yyy abc xxx ac yyy\"\n",
    "re.sub(\"ab*c\", \"?\", mystr)"
   ]
  }
 ],
 "metadata": {
  "kernelspec": {
   "display_name": "Python 3",
   "language": "python",
   "name": "python3"
  },
  "language_info": {
   "codemirror_mode": {
    "name": "ipython",
    "version": 3
   },
   "file_extension": ".py",
   "mimetype": "text/x-python",
   "name": "python",
   "nbconvert_exporter": "python",
   "pygments_lexer": "ipython3",
   "version": "3.8.8"
  }
 },
 "nbformat": 4,
 "nbformat_minor": 5
}
