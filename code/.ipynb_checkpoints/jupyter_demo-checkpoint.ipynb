{
 "cells": [
  {
   "cell_type": "markdown",
   "id": "65a5005b-36c6-4a55-a9f1-67c7077edc8b",
   "metadata": {
    "tags": []
   },
   "source": [
    "# 1. Interactive Coding"
   ]
  },
  {
   "cell_type": "code",
   "execution_count": 2,
   "id": "9d4d645a-0e9c-4a60-acc6-8a3a5a538492",
   "metadata": {},
   "outputs": [
    {
     "name": "stdout",
     "output_type": "stream",
     "text": [
      "?\n"
     ]
    }
   ],
   "source": [
    "print(\"?\")"
   ]
  },
  {
   "cell_type": "code",
   "execution_count": 1,
   "id": "d368172a-c8dd-49e6-92fc-391c2faa9e81",
   "metadata": {},
   "outputs": [
    {
     "name": "stdout",
     "output_type": "stream",
     "text": [
      "Hello world\n"
     ]
    }
   ],
   "source": [
    "print(\"Hello world\")"
   ]
  },
  {
   "cell_type": "code",
   "execution_count": 3,
   "id": "0255cdcf-fe4d-4f80-9410-58c989301a8e",
   "metadata": {},
   "outputs": [],
   "source": [
    "mylist = [\"Hello\", \"Jupyter\", \"Notebook\"]"
   ]
  },
  {
   "cell_type": "code",
   "execution_count": 4,
   "id": "595f6c39-b571-46dc-bbf2-f0460245346f",
   "metadata": {},
   "outputs": [
    {
     "data": {
      "text/plain": [
       "['Hello', 'Jupyter', 'Notebook']"
      ]
     },
     "execution_count": 4,
     "metadata": {},
     "output_type": "execute_result"
    }
   ],
   "source": [
    "mylist"
   ]
  },
  {
   "cell_type": "code",
   "execution_count": 5,
   "id": "4110bb37-5e8f-4b6f-8538-0d6a7112e3c3",
   "metadata": {},
   "outputs": [
    {
     "data": {
      "text/plain": [
       "60"
      ]
     },
     "execution_count": 5,
     "metadata": {},
     "output_type": "execute_result"
    }
   ],
   "source": [
    "25+12+23"
   ]
  },
  {
   "cell_type": "code",
   "execution_count": 6,
   "id": "3cdb295b-321a-4225-97df-ad689f1dd09b",
   "metadata": {},
   "outputs": [],
   "source": [
    "var = 7/6"
   ]
  },
  {
   "cell_type": "code",
   "execution_count": 7,
   "id": "7a05e552-cd40-4779-bea3-3f298595797d",
   "metadata": {},
   "outputs": [
    {
     "data": {
      "text/plain": [
       "1.1666666666666667"
      ]
     },
     "execution_count": 7,
     "metadata": {},
     "output_type": "execute_result"
    }
   ],
   "source": [
    "var"
   ]
  },
  {
   "cell_type": "markdown",
   "id": "544f27ab-08d3-4d5d-bdd2-c87b71eeb152",
   "metadata": {
    "jp-MarkdownHeadingCollapsed": true,
    "tags": []
   },
   "source": [
    "# 2. Markups\n",
    "# Heading level 1\n",
    "\n",
    "Some contents.\n",
    "## Heading level 2\n",
    "\n",
    "Some contents with **bold** font.\n",
    "\n",
    "Some contents with *italic* font.\n",
    "\n",
    "Some content <font color=blue>with</font> <font color=green>different</font> <font color=red>colors</font>.\n",
    "\n",
    "A link to [Google](https://www.google.com).\n",
    "\n",
    "A link to [the first head](#Interactive-Coding). (Spaces should be replaced with a hyphen) \n",
    "\n",
    "Embed some code: ```re.search()```\n",
    " \n",
    "### Heading level 3\n",
    "\n",
    "Some mathematical formulation: $\\frac{\\partial f}{\\partial x}$\n",
    "\n",
    "Some bullet points: \n",
    "- Item 1\n",
    "- Item 2\n",
    "- Item 3\n",
    "\n",
    "Some numbered list: \n",
    "1. Item 1\n",
    "    1. Sub item 1\n",
    "    1. Sub item 2\n",
    "        1. Sub sub item 1\n",
    "1. Item 2\n",
    "1. Item 3"
   ]
  },
  {
   "cell_type": "code",
   "execution_count": null,
   "id": "9ea34123-fa8c-42b3-b80d-7f6927f46b70",
   "metadata": {},
   "outputs": [],
   "source": []
  },
  {
   "cell_type": "markdown",
   "id": "6c0656dd-8f71-4331-868f-1df0d451996c",
   "metadata": {},
   "source": [
    "# 3. Visualizations"
   ]
  },
  {
   "cell_type": "code",
   "execution_count": 8,
   "id": "9add38b3-4c25-4997-84f3-a0e8172ae24b",
   "metadata": {},
   "outputs": [
    {
     "data": {
      "text/plain": [
       "[<matplotlib.lines.Line2D at 0x7fcdc031e820>]"
      ]
     },
     "execution_count": 8,
     "metadata": {},
     "output_type": "execute_result"
    },
    {
     "data": {
      "image/png": "[encoded data removed]",
      "text/plain": [
       "<Figure size 432x288 with 1 Axes>"
      ]
     },
     "metadata": {
      "needs_background": "light"
     },
     "output_type": "display_data"
    }
   ],
   "source": [
    "import numpy as np\n",
    "import matplotlib.pyplot as plt\n",
    "\n",
    "X = np.linspace(-4, 4, 1000)\n",
    "Y = X*2\n",
    "\n",
    "plt.plot(X, Y)"
   ]
  }
 ],
 "metadata": {
  "kernelspec": {
   "display_name": "Python 3",
   "language": "python",
   "name": "python3"
  },
  "language_info": {
   "codemirror_mode": {
    "name": "ipython",
    "version": 3
   },
   "file_extension": ".py",
   "mimetype": "text/x-python",
   "name": "python",
   "nbconvert_exporter": "python",
   "pygments_lexer": "ipython3",
   "version": "3.8.8"
  }
 },
 "nbformat": 4,
 "nbformat_minor": 5
}
