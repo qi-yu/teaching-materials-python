{
 "cells": [
  {
   "cell_type": "markdown",
   "id": "f6267325-e5db-49f5-b310-a5c7f3e4e2be",
   "metadata": {},
   "source": [
    "<font color=\"grey\">Qi Yu (University of Konstanz)  |  ZHAW, March 03-04, 2022</font>"
   ]
  },
  {
   "cell_type": "markdown",
   "id": "286ca779-7c83-415d-ab31-896cc001bfb1",
   "metadata": {},
   "source": [
    "# Hands-On: Regular Expressions and File I/O"
   ]
  },
  {
   "cell_type": "markdown",
   "id": "9b917931-a7c8-483f-90cc-0aa1bf99938d",
   "metadata": {},
   "source": [
    "In this exercise, you will work on the file ```peterpan.txt```. Please follow the instructions below to complete the exercise."
   ]
  },
  {
   "cell_type": "markdown",
   "id": "2e18154c-4640-448f-a90f-86e23cd6ccba",
   "metadata": {},
   "source": [
    "## 0. Read in file"
   ]
  },
  {
   "cell_type": "markdown",
   "id": "4e31b0eb-afb2-4531-9b66-02fd529ee12b",
   "metadata": {},
   "source": [
    "Read in the file ```peterpan.txt``` as a list of lines by executing the following code.\n",
    "\n",
    "As the line 1-65 and the line 6287-6644 are not the main text (the former one is the preamble, and the latter one is the licence), we remove them using the last line in the block below.\n"
   ]
  },
  {
   "cell_type": "code",
   "execution_count": null,
   "id": "08eb1d93-20c2-4c62-bb00-d09edab234d4",
   "metadata": {},
   "outputs": [],
   "source": [
    "f = open(\"peterpan.txt\", \"r\")\n",
    "lines = f.readlines()\n",
    "f.close()\n",
    "\n",
    "lines = lines[65:6286]"
   ]
  },
  {
   "cell_type": "markdown",
   "id": "cd444538-4dc2-4cb1-8773-b60caa8af3a6",
   "metadata": {},
   "source": [
    "## 1. Text normalization\n",
    "\n",
    "Text normalization is an essential step for (almost) all computational tasks on text data. Besides the (already removed) preambles and licences, the remaining text still contains some noises. For each line, please do the following cleaning, and append the cleaned lines to the list ```lines_cleaned```:\n",
    "\n",
    "1. The quotation marks in the file are not in the standard form, e.g., ```“``` is used instead of ```\"```. In real cases, this may cause problems for further tasks. Please do the following replacement:\n",
    "\n",
    "    1. Replace the double quotation marks ```“``` and ```”``` to ```\"```.\n",
    "    2. Replace the single quotation mark ```’``` to ```'```.\n",
    "\n",
    "\n",
    "2. Some expressions are surrounded by underscores, e.g., ```_Jolly Roger_```, ```_embonpoint_```. Please remove all the underscores.\n",
    "\n",
    "3. The chapter titles (see below for an example) remain in the text. For use cases in which we are only interested in the main text, we will need to get rid of them. \n",
    "\n",
    "    ```Chapter I.```\n",
    "    \n",
    "    ```PETER BREAKS THROUGH```\n",
    "    \n",
    "    Please use the method ```re.sub()``` and follow the guide below to remove all chapter titles:\n",
    "\n",
    "    1. First, substitute all chapter numerations, which are in form of \"Chapter XXX.\", e.g., ```Chapter III.```, ```Chapter IV.```, with empty strings ```''```.\n",
    "    1. Since all chapter names (e.g., ```PETER BREAKS THROUGH``` above) are written in all-capital form, we can remove them by using an empty string to substitute all lines that consist solely of the following characters: \n",
    "        1. capital letters, and/or...\n",
    "        2. spaces, and/or...\n",
    "        3. one or more of the following punctuations: comma ```, ```, exclamation mark ```!```, question mark ```?```, double quotation mark```\"```, and single quotation mark ```'```."
   ]
  },
  {
   "cell_type": "code",
   "execution_count": null,
   "id": "2d0663f8-d95e-4c9e-837e-623e21da3918",
   "metadata": {},
   "outputs": [],
   "source": [
    "import re"
   ]
  },
  {
   "cell_type": "code",
   "execution_count": null,
   "id": "bf5010c3-66ea-4f7e-8401-bda455bfa2f2",
   "metadata": {},
   "outputs": [],
   "source": [
    "lines_cleaned = []\n",
    "\n",
    "for line in lines: \n",
    "    \n",
    "    # ADD YOUR CODE HERE\n",
    "    \n",
    "    continue # This line is just a placeholder for the loop. Please remove it from your final code."
   ]
  },
  {
   "cell_type": "markdown",
   "id": "c4812fc2-ef15-4be7-8675-86f8aee5cb15",
   "metadata": {},
   "source": [
    "4. Finally, please remove all lines that only contains whitespaces (including newlines ```\\n```) from ```lines_cleaned```."
   ]
  },
  {
   "cell_type": "code",
   "execution_count": null,
   "id": "a10b2506-d225-451c-bddb-eb02a20b4e6a",
   "metadata": {},
   "outputs": [],
   "source": [
    "# ADD YOUR CODE HERE"
   ]
  },
  {
   "cell_type": "markdown",
   "id": "6b59bbeb-9322-4b9a-aeb4-85691dc34881",
   "metadata": {},
   "source": [
    "## 2. Write file"
   ]
  },
  {
   "cell_type": "markdown",
   "id": "cf3f2fdb-0ed7-4efa-ae3e-37665b3ad8ba",
   "metadata": {},
   "source": [
    "As a last step, please write all the cleaned lines in ```lines_cleaned``` into a new file named ```peterpan_cleaned.txt```."
   ]
  },
  {
   "cell_type": "code",
   "execution_count": null,
   "id": "26038290-f904-4a78-b97b-a359041ce05a",
   "metadata": {},
   "outputs": [],
   "source": [
    "# ADD YOUR CODE HERE"
   ]
  }
 ],
 "metadata": {
  "kernelspec": {
   "display_name": "Python 3",
   "language": "python",
   "name": "python3"
  },
  "language_info": {
   "codemirror_mode": {
    "name": "ipython",
    "version": 3
   },
   "file_extension": ".py",
   "mimetype": "text/x-python",
   "name": "python",
   "nbconvert_exporter": "python",
   "pygments_lexer": "ipython3",
   "version": "3.8.8"
  }
 },
 "nbformat": 4,
 "nbformat_minor": 5
}
