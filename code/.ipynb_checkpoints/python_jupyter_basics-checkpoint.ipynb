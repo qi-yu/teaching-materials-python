{
 "cells": [
  {
   "cell_type": "markdown",
   "id": "65598f3a-fa6d-4ee1-8b08-20ada9599b2e",
   "metadata": {},
   "source": [
    "<font color=\"grey\">Qi Yu (University of Konstanz)  |  ZHAW, March 03-04, 2022</font>"
   ]
  },
  {
   "cell_type": "markdown",
   "id": "e59c0c27-f455-4900-987f-400f782ca9db",
   "metadata": {},
   "source": [
    "# 1. Basics of Python and Jupyter Notebook"
   ]
  },
  {
   "cell_type": "markdown",
   "id": "94d19259-1e6b-4a5f-8c0b-20b32b701758",
   "metadata": {},
   "source": [
    "## 1.1 Write your first program in Python... "
   ]
  },
  {
   "cell_type": "code",
   "execution_count": null,
   "id": "f0b30d5e-7822-46b9-8464-0f8e00ea5985",
   "metadata": {},
   "outputs": [],
   "source": [
    "print(\"Hello world!\")"
   ]
  },
  {
   "cell_type": "markdown",
   "id": "dcff7820-7153-464a-923b-8ed29d77d653",
   "metadata": {
    "tags": []
   },
   "source": [
    "## 1.2. Write comments in Python"
   ]
  },
  {
   "cell_type": "code",
   "execution_count": null,
   "id": "5e41cc98-4a40-47c0-89a8-9821521ccc79",
   "metadata": {},
   "outputs": [],
   "source": [
    "# This is a comment."
   ]
  },
  {
   "cell_type": "code",
   "execution_count": null,
   "id": "2ac813e5-6687-441a-80cf-15b3f57ad2ea",
   "metadata": {},
   "outputs": [],
   "source": [
    "# print(\"Hello world!\")"
   ]
  },
  {
   "cell_type": "markdown",
   "id": "dbd714c6-15c2-4119-87f4-ca1f1d757791",
   "metadata": {},
   "source": [
    "**It's a good practice to comment your code sufficiently. (But please do not overdo this: You don't need to comment every single line.)**"
   ]
  },
  {
   "cell_type": "markdown",
   "id": "0ddcb498-2db1-4bec-8b1b-bcd5dfccbbf7",
   "metadata": {
    "tags": []
   },
   "source": [
    "## 1.3 Annotate your code in Jupyter Notebook using markdown \n",
    "\n",
    "### 1.3.1 Headings\n",
    "Headings are denoted using #.\n",
    "\n",
    "### 1.3.2 Fonts\n",
    "Some contents with **bold** font.\n",
    "\n",
    "Some contents with *italic* font.\n",
    "\n",
    "Some content <font color=blue>with</font> <font color=green>different</font> <font color=red>colors</font>.\n",
    "\n",
    "### 1.3.3 Links\n",
    "A link to [Google](https://www.google.com).\n",
    "\n",
    "A link to [the first head](#1.-Basics-of-Python-and-Jupyter-Notebook). (Spaces should be replaced with a hyphen) \n",
    "\n",
    "### 1.3.4 Codes and mathematical formulations\n",
    "Embed codes: ```print()```\n",
    " \n",
    "Mathematical formulation: $\\frac{\\partial f}{\\partial x}$\n",
    "\n",
    "### 1.3.5 Bullet points and numbered lists\n",
    "Bullet points: \n",
    "- Item 1\n",
    "- Item 2\n",
    "- Item 3\n",
    "\n",
    "Numbered list: \n",
    "1. Item 1\n",
    "    1. Sub item 1\n",
    "    1. Sub item 2\n",
    "        1. Sub sub item 1\n",
    "1. Item 2\n",
    "1. Item 3\n",
    "\n",
    "### 1.3.6 References\n",
    "**Check [here](https://towardsdatascience.com/jypyter-notebook-shortcuts-bf0101a98330) for shortcuts in Jupyter Notebook.**"
   ]
  },
  {
   "cell_type": "markdown",
   "id": "09f6bcbd-14bc-4d74-8560-48660ef3daa4",
   "metadata": {},
   "source": [
    "# 2. Input and output"
   ]
  },
  {
   "cell_type": "code",
   "execution_count": null,
   "id": "da349059-df60-4a8e-9900-1126bd121a30",
   "metadata": {},
   "outputs": [],
   "source": [
    "print(\"Hello!\")"
   ]
  },
  {
   "cell_type": "code",
   "execution_count": null,
   "id": "6a337620-821e-41a5-8cf9-8ec2f873d930",
   "metadata": {},
   "outputs": [],
   "source": [
    "input(\"What's your name?\")"
   ]
  },
  {
   "cell_type": "markdown",
   "id": "af95d9d9-ad91-4f10-b37d-0f067add44c1",
   "metadata": {},
   "source": [
    "# 3. Variable assignment"
   ]
  },
  {
   "cell_type": "code",
   "execution_count": null,
   "id": "48bd98d3-6c27-46f9-8c4c-017d40db25ae",
   "metadata": {},
   "outputs": [],
   "source": [
    "x = 2"
   ]
  },
  {
   "cell_type": "markdown",
   "id": "a24e3d69-3e01-4ee8-8637-cbe5e95df5e2",
   "metadata": {},
   "source": [
    "**Get the value of the variable by directly calling it in interactive mode:**"
   ]
  },
  {
   "cell_type": "code",
   "execution_count": null,
   "id": "bcfd2179-d300-4dc1-a7e6-5f78263a5c9c",
   "metadata": {},
   "outputs": [],
   "source": [
    "x"
   ]
  },
  {
   "cell_type": "markdown",
   "id": "b70fbe9c-849d-4c41-a5ca-b54c5693c1f3",
   "metadata": {},
   "source": [
    "**Get the value of the variable using ```print()```**"
   ]
  },
  {
   "cell_type": "code",
   "execution_count": null,
   "id": "bb3392ff-83d5-46fd-bafb-243f12475d21",
   "metadata": {},
   "outputs": [],
   "source": [
    "print(x)"
   ]
  },
  {
   "cell_type": "markdown",
   "id": "5db1527d-2a2d-4a72-bace-c9be2670fe45",
   "metadata": {},
   "source": [
    "**Note that ```=``` means value assignment, not equality.**"
   ]
  },
  {
   "cell_type": "code",
   "execution_count": null,
   "id": "4b07df69-6e7f-4554-8912-a410d7915b65",
   "metadata": {},
   "outputs": [],
   "source": [
    "x = x + 1\n",
    "x"
   ]
  },
  {
   "cell_type": "markdown",
   "id": "2bb8d2e6-bb34-4d69-bacf-d052e9b7809b",
   "metadata": {},
   "source": [
    "**Note the different way how numbers and strings are denoted:**"
   ]
  },
  {
   "cell_type": "code",
   "execution_count": null,
   "id": "bbdbc13d-983f-4736-a3af-486c7a84e6cf",
   "metadata": {},
   "outputs": [],
   "source": [
    "var1 = 2\n",
    "var2 = 3\n",
    "print(var1 + var2)"
   ]
  },
  {
   "cell_type": "code",
   "execution_count": null,
   "id": "c04dd7a7-1af6-446a-b634-e01adc152a84",
   "metadata": {},
   "outputs": [],
   "source": [
    "var1 = \"2\"\n",
    "var2 = \"3\"\n",
    "print(var1 + var2)"
   ]
  },
  {
   "cell_type": "markdown",
   "id": "01e2ac98-40c9-407c-8868-4567a799f62d",
   "metadata": {},
   "source": [
    "# 4. Arithmetic operators"
   ]
  },
  {
   "cell_type": "markdown",
   "id": "6f17ea60-c2b4-457b-ac42-ce489a468f5c",
   "metadata": {},
   "source": [
    "## 4.1 Basic arithmetic operators"
   ]
  },
  {
   "cell_type": "code",
   "execution_count": null,
   "id": "617a538f-5fd6-4c10-b392-ad83191c1a69",
   "metadata": {},
   "outputs": [],
   "source": [
    "2 + 3 "
   ]
  },
  {
   "cell_type": "markdown",
   "id": "57f4a9db-2f32-4dad-b55a-c9aaa32cfe7b",
   "metadata": {},
   "source": [
    "**Assign values to a variable and then call the variable:**"
   ]
  },
  {
   "cell_type": "code",
   "execution_count": null,
   "id": "a617974c-a276-4e6d-8ef2-0a666f113c9a",
   "metadata": {},
   "outputs": [],
   "source": [
    "x = 2\n",
    "y = 3"
   ]
  },
  {
   "cell_type": "code",
   "execution_count": null,
   "id": "12e6fee9-290e-49f1-a538-cf98a3e86c6f",
   "metadata": {},
   "outputs": [],
   "source": [
    "print(x+y)\n",
    "print(x-y)\n",
    "print(x*y)\n",
    "print(x/y)"
   ]
  },
  {
   "cell_type": "markdown",
   "id": "8d332a3c-341b-4aac-ab27-ec9fd5617852",
   "metadata": {},
   "source": [
    "**Exponentiation:**"
   ]
  },
  {
   "cell_type": "code",
   "execution_count": null,
   "id": "afb95c24-85eb-4fc4-b6d8-2dc57dba2fbe",
   "metadata": {},
   "outputs": [],
   "source": [
    "2 ** 3"
   ]
  },
  {
   "cell_type": "markdown",
   "id": "0f1c4e6d-28bf-450a-9990-27468f0cbf0f",
   "metadata": {},
   "source": [
    "**Modulus:**"
   ]
  },
  {
   "cell_type": "code",
   "execution_count": null,
   "id": "a3edd117-5c02-4c51-a164-f4ae0e41462b",
   "metadata": {},
   "outputs": [],
   "source": [
    "7 % 2  # 7 = 2 * 3 + 1"
   ]
  },
  {
   "cell_type": "markdown",
   "id": "09c9d873-c112-47ad-b660-e8816fe347a5",
   "metadata": {},
   "source": [
    "**Floor division:**"
   ]
  },
  {
   "cell_type": "code",
   "execution_count": null,
   "id": "48371f5d-8e71-44f1-afd6-2750ae2bdb0e",
   "metadata": {},
   "outputs": [],
   "source": [
    "7 // 2"
   ]
  },
  {
   "cell_type": "markdown",
   "id": "f6f37026-145d-4278-9789-01288697b973",
   "metadata": {
    "tags": []
   },
   "source": [
    "## 4.2 Augmented assignment operators"
   ]
  },
  {
   "cell_type": "code",
   "execution_count": null,
   "id": "31f0601e-f5dd-419b-be38-6b631909a227",
   "metadata": {},
   "outputs": [],
   "source": [
    "x = 2\n",
    "y = 3 \n",
    "x += y # Equivalent to: x = x + y\n",
    "print(x)"
   ]
  },
  {
   "cell_type": "code",
   "execution_count": null,
   "id": "3c74b939-32d8-4051-b855-d06f87bfb527",
   "metadata": {},
   "outputs": [],
   "source": [
    "x = 2\n",
    "y = 3 \n",
    "x -= y # Equivalent to: x = x * y\n",
    "print(x)"
   ]
  },
  {
   "cell_type": "markdown",
   "id": "df2c2116-94cf-4095-84ef-18401e7c85f7",
   "metadata": {},
   "source": [
    "**Augmented assignment operators can also be used to all other operators in Section 3.**"
   ]
  },
  {
   "cell_type": "markdown",
   "id": "5df38231-68f3-4c0c-a043-07daa8cd63f1",
   "metadata": {},
   "source": [
    "## 4.3 Maximul and minimum values"
   ]
  },
  {
   "cell_type": "code",
   "execution_count": null,
   "id": "0bc4c2d3-1bc6-4817-bf44-b3b836cb09dd",
   "metadata": {},
   "outputs": [],
   "source": [
    "max(1, 2, 3, 4, 5)"
   ]
  },
  {
   "cell_type": "code",
   "execution_count": null,
   "id": "8fdb08dd-040b-4582-a41d-8b79d2aca509",
   "metadata": {},
   "outputs": [],
   "source": [
    "minimum = min(1, 2, 3, 4, 5)\n",
    "minimum"
   ]
  },
  {
   "cell_type": "markdown",
   "id": "739a5e74-7a69-4aca-bf47-9c64541d428f",
   "metadata": {},
   "source": [
    "# 5. ```+```, ```*```, ```max()```, and ```min()``` on strings"
   ]
  },
  {
   "cell_type": "code",
   "execution_count": null,
   "id": "765d1d43-8394-4183-b6b8-d02d79381ac7",
   "metadata": {},
   "outputs": [],
   "source": [
    "str1 = \"hello\" \n",
    "str2 = \"world\""
   ]
  },
  {
   "cell_type": "code",
   "execution_count": null,
   "id": "e3d2aae5-e6ec-4731-87b4-0f90d7fdb637",
   "metadata": {},
   "outputs": [],
   "source": [
    "str1 + str2"
   ]
  },
  {
   "cell_type": "code",
   "execution_count": null,
   "id": "1eb52367-8237-44db-9a45-d172148f7b77",
   "metadata": {},
   "outputs": [],
   "source": [
    "str1 * 3"
   ]
  },
  {
   "cell_type": "markdown",
   "id": "741f435c-7749-4070-8e72-4011514ca30a",
   "metadata": {},
   "source": [
    "**Note that the second multiplier must be an integer. The follows won't work:**"
   ]
  },
  {
   "cell_type": "code",
   "execution_count": null,
   "id": "c4b5793d-4a1e-4e62-85ca-42235f25014f",
   "metadata": {},
   "outputs": [],
   "source": [
    "\"hello\" * \"a\""
   ]
  },
  {
   "cell_type": "code",
   "execution_count": null,
   "id": "c23b7d24-85d4-4277-b8c2-63a579d82ef3",
   "metadata": {},
   "outputs": [],
   "source": [
    "\"hello\" * 3.5"
   ]
  },
  {
   "cell_type": "markdown",
   "id": "b3f0fc22-afee-43a7-a216-36effb2969b4",
   "metadata": {},
   "source": [
    "**```max()``` and ```min()```:**"
   ]
  },
  {
   "cell_type": "code",
   "execution_count": null,
   "id": "86b82934-f1c7-42d7-a3ef-e7fb1a69dd62",
   "metadata": {},
   "outputs": [],
   "source": [
    "max(str1)"
   ]
  },
  {
   "cell_type": "code",
   "execution_count": null,
   "id": "698099f7-6235-4250-bf26-0d7f64eafbf2",
   "metadata": {},
   "outputs": [],
   "source": [
    "min(str1)"
   ]
  }
 ],
 "metadata": {
  "kernelspec": {
   "display_name": "Python 3",
   "language": "python",
   "name": "python3"
  },
  "language_info": {
   "codemirror_mode": {
    "name": "ipython",
    "version": 3
   },
   "file_extension": ".py",
   "mimetype": "text/x-python",
   "name": "python",
   "nbconvert_exporter": "python",
   "pygments_lexer": "ipython3",
   "version": "3.8.8"
  }
 },
 "nbformat": 4,
 "nbformat_minor": 5
}
