{
 "cells": [
  {
   "cell_type": "markdown",
   "id": "340986e0-4e69-40da-96c2-6f31da7352b1",
   "metadata": {},
   "source": [
    "<font color=\"grey\">Qi Yu (University of Konstanz)  |  ZHAW, March 03-04, 2022</font>"
   ]
  },
  {
   "cell_type": "markdown",
   "id": "ac231a60-573b-4d91-9a26-2ea8cc6dc6da",
   "metadata": {},
   "source": [
    "# 1. ```matplotlib```"
   ]
  },
  {
   "cell_type": "code",
   "execution_count": null,
   "id": "2e9ac75d-6c90-4aa8-926a-dfb4e020f07d",
   "metadata": {},
   "outputs": [],
   "source": [
    "import matplotlib.pyplot as plt"
   ]
  },
  {
   "cell_type": "markdown",
   "id": "3481b585-2268-4bdb-a69d-6d7061a3648e",
   "metadata": {},
   "source": [
    "**Toy example: a list of words and their respective frequencies**"
   ]
  },
  {
   "cell_type": "code",
   "execution_count": null,
   "id": "8512fa68-8098-4ac5-9ae7-ea348e95b11d",
   "metadata": {},
   "outputs": [],
   "source": [
    "x = [\"Peter\", \"the\", \"of\", \"a\", \"is\", \"has\"]\n",
    "y = [2, 24, 20, 34, 40, 10] "
   ]
  },
  {
   "cell_type": "code",
   "execution_count": null,
   "id": "dfb27685-b0a8-4922-9487-9796cf50d1ec",
   "metadata": {},
   "outputs": [],
   "source": [
    "fig, ax = plt.subplots()\n",
    "ax.bar(x, y, width=0.8, edgecolor=\"white\", linewidth=0.7)"
   ]
  },
  {
   "cell_type": "markdown",
   "id": "5954019c-e285-4c7a-aa43-5988fd0d2ea3",
   "metadata": {},
   "source": [
    "# 2. ```pandas```"
   ]
  },
  {
   "cell_type": "code",
   "execution_count": null,
   "id": "17cbbac0-abd9-4240-b181-a3004b1bd3e4",
   "metadata": {},
   "outputs": [],
   "source": [
    "import pandas as pd"
   ]
  },
  {
   "cell_type": "markdown",
   "id": "5a30295b-df5e-4bb3-ad47-c8bf65c78072",
   "metadata": {},
   "source": [
    "**Create data frame using ```pandas```:**"
   ]
  },
  {
   "cell_type": "code",
   "execution_count": null,
   "id": "ff1010dd-94e8-47dd-af96-183f4748915f",
   "metadata": {},
   "outputs": [],
   "source": [
    "df = pd.DataFrame({\"token\": x, \"frequency\": y})\n",
    "df"
   ]
  },
  {
   "cell_type": "markdown",
   "id": "abf06ade-6f27-47e6-b7fb-55cb652929a3",
   "metadata": {},
   "source": [
    "**Write out the data frame as .csv-file:**"
   ]
  },
  {
   "cell_type": "code",
   "execution_count": null,
   "id": "7a6d1e0b-860e-41cb-9a37-53417e06ebca",
   "metadata": {},
   "outputs": [],
   "source": [
    "df.to_csv(\"pandas_example.csv\", sep=\"\\t\", encoding=\"utf-8\", index=False)"
   ]
  },
  {
   "cell_type": "markdown",
   "id": "e2246778-7785-4b53-ad8b-9c2b261c22ab",
   "metadata": {},
   "source": [
    "**Read in a .csv-file:**"
   ]
  },
  {
   "cell_type": "code",
   "execution_count": null,
   "id": "2441e857-1ced-4212-8d39-534b580e4110",
   "metadata": {},
   "outputs": [],
   "source": [
    "df_input = pd.read_csv(\"pandas_example.csv\", sep=\"\\t\", encoding=\"utf-8\")\n",
    "df_input"
   ]
  },
  {
   "cell_type": "markdown",
   "id": "f50fe0a1-142e-4a93-93a9-f17b2ee381b6",
   "metadata": {
    "tags": []
   },
   "source": [
    "# 3. ```scipy```"
   ]
  },
  {
   "cell_type": "code",
   "execution_count": null,
   "id": "7a970b58-15dc-49d0-8667-db2d88a7c86d",
   "metadata": {},
   "outputs": [],
   "source": [
    "from scipy import stats"
   ]
  },
  {
   "cell_type": "markdown",
   "id": "b5a37da3-8ebb-4a61-9284-5b212fcc502e",
   "metadata": {},
   "source": [
    "**Correlation test using *Pearson's r*:**\n",
    "\n",
    "**The method ```pearsonr()``` returns two values:**\n",
    "1. The correlation coefficient *r*;\n",
    "2. The *p*-value."
   ]
  },
  {
   "cell_type": "code",
   "execution_count": null,
   "id": "1f3116af-b034-457e-b692-e5b082246c24",
   "metadata": {},
   "outputs": [],
   "source": [
    "vec1 = [1, 2, 3, 4, 5]\n",
    "vec2 = [10, 9, 2.5, 6, 4]\n",
    "\n",
    "stats.pearsonr(vec1, vec2)"
   ]
  }
 ],
 "metadata": {
  "kernelspec": {
   "display_name": "Python 3",
   "language": "python",
   "name": "python3"
  },
  "language_info": {
   "codemirror_mode": {
    "name": "ipython",
    "version": 3
   },
   "file_extension": ".py",
   "mimetype": "text/x-python",
   "name": "python",
   "nbconvert_exporter": "python",
   "pygments_lexer": "ipython3",
   "version": "3.8.8"
  }
 },
 "nbformat": 4,
 "nbformat_minor": 5
}
