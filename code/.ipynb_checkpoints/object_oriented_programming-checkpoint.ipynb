{
 "cells": [
  {
   "cell_type": "markdown",
   "id": "3e767fb5-25b6-4478-85f0-7a120f24485a",
   "metadata": {},
   "source": [
    "<font color=\"grey\">Qi Yu (University of Konstanz)  |  ZHAW, March 03-04, 2022</font>"
   ]
  },
  {
   "cell_type": "markdown",
   "id": "a1763d08-0e63-41a3-bc47-959b7823c74e",
   "metadata": {},
   "source": [
    "# 1. Create classes in Python\n",
    "\n",
    "**Classes are constructed using the keyword ```class```. Class names are conventionally capitalized.**"
   ]
  },
  {
   "cell_type": "code",
   "execution_count": null,
   "id": "163742d5-92a2-41a0-ab0e-d077894da226",
   "metadata": {},
   "outputs": [],
   "source": [
    "class House:\n",
    "    info = \"This is a house.\""
   ]
  },
  {
   "cell_type": "markdown",
   "id": "e7d716f9-8d18-4468-8fc0-8be4b7484c9b",
   "metadata": {},
   "source": [
    "**Create an instance of the class:**"
   ]
  },
  {
   "cell_type": "code",
   "execution_count": null,
   "id": "48265f4c-a15b-46e2-ba25-0e66d71aead6",
   "metadata": {},
   "outputs": [],
   "source": [
    "h = House()"
   ]
  },
  {
   "cell_type": "markdown",
   "id": "2a8338c4-06e4-4ee5-8215-29f2d8c49361",
   "metadata": {},
   "source": [
    "# 2. Class attributes and class methods"
   ]
  },
  {
   "cell_type": "markdown",
   "id": "fe7641a2-86b9-4b75-bc73-69a189e9ece4",
   "metadata": {},
   "source": [
    "## 2.1 Class attributes"
   ]
  },
  {
   "cell_type": "markdown",
   "id": "872d01ef-ab05-4eee-9215-fca433451e3e",
   "metadata": {},
   "source": [
    "**Access the attribute ```info``` from the Class:**"
   ]
  },
  {
   "cell_type": "code",
   "execution_count": null,
   "id": "f512ffd4-5ad7-4ede-8b36-c416a5f31e84",
   "metadata": {},
   "outputs": [],
   "source": [
    "House.info"
   ]
  },
  {
   "cell_type": "markdown",
   "id": "4898eba4-8e2f-4bbf-bda8-9354ffc1ef20",
   "metadata": {},
   "source": [
    "**Note that the attribute ```info``` can also be accessed from the instance:**"
   ]
  },
  {
   "cell_type": "code",
   "execution_count": null,
   "id": "5a12f927-e352-4b98-b048-c06d41b3295a",
   "metadata": {},
   "outputs": [],
   "source": [
    "h.info"
   ]
  },
  {
   "cell_type": "markdown",
   "id": "0a8a3367-f0f1-4203-bede-37fdb84ce1d7",
   "metadata": {
    "tags": []
   },
   "source": [
    "## 2.2 Class methods"
   ]
  },
  {
   "cell_type": "code",
   "execution_count": null,
   "id": "5eaf3b42-b0b7-4728-a1c7-2fd9704f22c4",
   "metadata": {},
   "outputs": [],
   "source": [
    "class House:\n",
    "    def introduction():\n",
    "        print(\"This is a house.\")"
   ]
  },
  {
   "cell_type": "code",
   "execution_count": null,
   "id": "7dda711c-0f20-4b1c-806c-0d316e6cf0dc",
   "metadata": {},
   "outputs": [],
   "source": [
    "h = House()"
   ]
  },
  {
   "cell_type": "markdown",
   "id": "e11d346c-1b66-4a2e-873d-fb6d12641df1",
   "metadata": {},
   "source": [
    "**Note that ```info()``` can only be accessed from the class, but not from instances of the class.**"
   ]
  },
  {
   "cell_type": "code",
   "execution_count": null,
   "id": "4883c624-462a-47cb-a93d-a5b272f4cc81",
   "metadata": {},
   "outputs": [],
   "source": [
    "House.introduction()"
   ]
  },
  {
   "cell_type": "code",
   "execution_count": null,
   "id": "6bdbcb6f-9f93-499d-ade9-65464f0828c3",
   "metadata": {
    "tags": []
   },
   "outputs": [],
   "source": [
    "h.introduction()"
   ]
  },
  {
   "cell_type": "markdown",
   "id": "46578fc3-03a2-4390-b946-894abd86a503",
   "metadata": {},
   "source": [
    "# 3. Instance methods, instance attributes, getter, setter"
   ]
  },
  {
   "cell_type": "markdown",
   "id": "64b728ee-9e1b-4240-882d-ecf2e1d44472",
   "metadata": {},
   "source": [
    "## 3.1 Instance methods:"
   ]
  },
  {
   "cell_type": "code",
   "execution_count": null,
   "id": "ab981ed9-b112-4463-bf20-134c37f53ec3",
   "metadata": {},
   "outputs": [],
   "source": [
    "class House:\n",
    "    def class_info():\n",
    "        print(\"This is a 'house' class.\")\n",
    "    \n",
    "    def instance_info(self):\n",
    "        print(\"This is a 'house' instance.\")"
   ]
  },
  {
   "cell_type": "code",
   "execution_count": null,
   "id": "aee16c1e-8a06-446e-abdd-6205ddb8a192",
   "metadata": {},
   "outputs": [],
   "source": [
    "h = House()"
   ]
  },
  {
   "cell_type": "markdown",
   "id": "a056601c-9e25-4a51-ad52-2258cbd3a039",
   "metadata": {},
   "source": [
    "**Note the accessibility of ```class_info()``` and ```instance_info()```:**"
   ]
  },
  {
   "cell_type": "code",
   "execution_count": null,
   "id": "7b67ff79-6714-4ae6-a302-294adc8798ad",
   "metadata": {},
   "outputs": [],
   "source": [
    "h.instance_info()"
   ]
  },
  {
   "cell_type": "code",
   "execution_count": null,
   "id": "f5695986-ad82-4bfd-a16d-b6729a1309c6",
   "metadata": {},
   "outputs": [],
   "source": [
    "House.instance_info()"
   ]
  },
  {
   "cell_type": "code",
   "execution_count": null,
   "id": "bbc79ba1-22eb-455b-ac55-6405f9881ff6",
   "metadata": {},
   "outputs": [],
   "source": [
    "House.class_info()"
   ]
  },
  {
   "cell_type": "code",
   "execution_count": null,
   "id": "4d723163-947b-41cf-a243-27757d5fa58f",
   "metadata": {},
   "outputs": [],
   "source": [
    "h.class_info()"
   ]
  },
  {
   "cell_type": "markdown",
   "id": "685eeb25-b7d2-4010-b1c6-b9838983b1d7",
   "metadata": {},
   "source": [
    "## 3.2 Instance attributes:"
   ]
  },
  {
   "cell_type": "code",
   "execution_count": null,
   "id": "b3f9136d-e259-4dc9-93ba-3c3b17f2bc71",
   "metadata": {},
   "outputs": [],
   "source": [
    "class House:\n",
    "    info = \"This is a house.\"\n",
    "    \n",
    "    def set_address(self, adr):\n",
    "        self.address = adr\n",
    "        \n",
    "    def get_address(self):\n",
    "        return self.address"
   ]
  },
  {
   "cell_type": "code",
   "execution_count": null,
   "id": "57847154-5095-487b-84f1-cff8c88f4507",
   "metadata": {},
   "outputs": [],
   "source": [
    "h = House()"
   ]
  },
  {
   "cell_type": "code",
   "execution_count": null,
   "id": "564fc1a1-b831-4f58-8da1-e66ba8425e46",
   "metadata": {},
   "outputs": [],
   "source": [
    "h.set_address(\"Maple Street 1\")"
   ]
  },
  {
   "cell_type": "markdown",
   "id": "f688381e-36ba-4efe-8510-fdab19140df3",
   "metadata": {},
   "source": [
    "**Note the accessibility of the attributes ```info``` and ```address```:**"
   ]
  },
  {
   "cell_type": "code",
   "execution_count": null,
   "id": "9e3db957-0a85-4418-8958-68e80e1bf582",
   "metadata": {},
   "outputs": [],
   "source": [
    "h.address"
   ]
  },
  {
   "cell_type": "code",
   "execution_count": null,
   "id": "9864caa6-061a-4cac-8a6d-95b55e54dd80",
   "metadata": {},
   "outputs": [],
   "source": [
    "House.address"
   ]
  },
  {
   "cell_type": "code",
   "execution_count": null,
   "id": "84f1801e-1315-43c5-b4fc-56501d579a50",
   "metadata": {},
   "outputs": [],
   "source": [
    "House.info"
   ]
  },
  {
   "cell_type": "code",
   "execution_count": null,
   "id": "35ef8656-8a23-4910-8fa9-bc11771e8dfe",
   "metadata": {},
   "outputs": [],
   "source": [
    "h.info"
   ]
  },
  {
   "cell_type": "markdown",
   "id": "41b59567-f989-48a9-8b08-019041fc1b59",
   "metadata": {},
   "source": [
    "**The attribute ```address``` can also be returned by the method ```get_address()```, as defined in the class body.**\n",
    "\n",
    "**Methods such as ```set_address()``` and ```get_address()```, which are used to manipulate and return attribute values, are also called *getters* and *setters*.**"
   ]
  },
  {
   "cell_type": "code",
   "execution_count": null,
   "id": "a34fed99-22f6-495d-84c3-b2812a966c52",
   "metadata": {},
   "outputs": [],
   "source": [
    "h.get_address()"
   ]
  },
  {
   "cell_type": "markdown",
   "id": "b334221a-512b-4815-81ac-0a970a0081c0",
   "metadata": {},
   "source": [
    "# 4. Constructor method ```__init__()```: Automatic setting-up of objects "
   ]
  },
  {
   "cell_type": "markdown",
   "id": "c0992943-1d27-48fb-a254-a40746d9d54e",
   "metadata": {},
   "source": [
    "**Constructor ```__init__()```: It will be run when function will be run when the class is instantiated.**\n",
    "\n",
    "**Doubled underscores at the begin and end indicates that it is a built-in \"special methods\" in Python.**"
   ]
  },
  {
   "cell_type": "code",
   "execution_count": null,
   "id": "db75b767-6b18-47c8-a329-0d2ca6b05367",
   "metadata": {},
   "outputs": [],
   "source": [
    "class House:\n",
    "    info = \"This is a house.\"\n",
    "    count = 0\n",
    "    \n",
    "    def __init__(self):\n",
    "        House.count += 1\n",
    "    \n",
    "    def set_address(self, adr):\n",
    "        self.address = adr\n",
    "        \n",
    "    def get_address(self):\n",
    "        return self.address"
   ]
  },
  {
   "cell_type": "code",
   "execution_count": null,
   "id": "ef96b9b0-809c-49de-8167-c235a8a8d480",
   "metadata": {},
   "outputs": [],
   "source": [
    "h1 = House()"
   ]
  },
  {
   "cell_type": "code",
   "execution_count": null,
   "id": "ebfd1c16-f86a-4f59-a7ce-8cb7425cc237",
   "metadata": {},
   "outputs": [],
   "source": [
    "h2 = House()"
   ]
  },
  {
   "cell_type": "code",
   "execution_count": null,
   "id": "e6518242-d86a-4d91-97b1-7d312c7fd051",
   "metadata": {},
   "outputs": [],
   "source": [
    "House.count"
   ]
  },
  {
   "cell_type": "markdown",
   "id": "55d28e8a-c63f-4ba8-a92f-65132fc4762e",
   "metadata": {},
   "source": [
    "**The constructor ```__init()__``` can also take arguments:**"
   ]
  },
  {
   "cell_type": "code",
   "execution_count": null,
   "id": "1d75799e-9d9d-4b5a-be15-533d585bfd5d",
   "metadata": {},
   "outputs": [],
   "source": [
    "class House:\n",
    "    info = \"This is a house.\"\n",
    "    count = 0\n",
    "    \n",
    "    def __init__(self, s):\n",
    "        House.count += 1\n",
    "        self.size = s # Specify the size of the house\n",
    "    \n",
    "    def set_address(self, adr):\n",
    "        self.address = adr\n",
    "        \n",
    "    def get_address(self):\n",
    "        return self.address"
   ]
  },
  {
   "cell_type": "code",
   "execution_count": null,
   "id": "28930a42-110c-4679-ab7d-91dfa640a7b7",
   "metadata": {},
   "outputs": [],
   "source": [
    "h = House(100)"
   ]
  },
  {
   "cell_type": "code",
   "execution_count": null,
   "id": "0834701d-0b62-4993-b3ea-9e8753c07eb3",
   "metadata": {},
   "outputs": [],
   "source": [
    "h.size"
   ]
  },
  {
   "cell_type": "markdown",
   "id": "3bacb52c-71ec-42c4-b7c0-8bdb5cacaac3",
   "metadata": {},
   "source": [
    "# 5. Inheritance"
   ]
  },
  {
   "cell_type": "markdown",
   "id": "1f645add-9676-40e2-b176-727364e4e297",
   "metadata": {},
   "source": [
    "## 5.1 Inheritance"
   ]
  },
  {
   "cell_type": "markdown",
   "id": "f00479c4-876c-4650-9c75-f259e12b19b6",
   "metadata": {},
   "source": [
    "**First, let's create an example class ```house```.**"
   ]
  },
  {
   "cell_type": "code",
   "execution_count": null,
   "id": "a13526b6-3b33-4743-ab80-a740858a7674",
   "metadata": {},
   "outputs": [],
   "source": [
    "class House:\n",
    "    count = 0\n",
    "    \n",
    "    def __init__(self, s):\n",
    "        House.count += 1\n",
    "        self.size = s\n",
    "    \n",
    "    def introduction(self):\n",
    "        print(\"This is a house.\")\n",
    "    \n",
    "    def set_address(self, adr):\n",
    "        self.address = adr\n",
    "        \n",
    "    def get_address(self):\n",
    "        return self.address"
   ]
  },
  {
   "cell_type": "code",
   "execution_count": null,
   "id": "f0ebd6b0-4b85-4a39-af5f-2821fed88417",
   "metadata": {},
   "outputs": [],
   "source": [
    "h = House(120)\n",
    "h.introduction()"
   ]
  },
  {
   "cell_type": "markdown",
   "id": "17e6b296-532f-4ca2-a849-0df532e0e734",
   "metadata": {},
   "source": [
    "**We can create a child class ```Bungalows``` which inherit from the class ```House``` by specifying the inheritance relation in brackets after the class name.**\n",
    "\n",
    "**The child class can also have its own methods, e.g., ```set_room_num()``` below.**\n",
    "\n",
    "**Note that you can override inherited methods and variables, e.g., ```introduction()``` below.**"
   ]
  },
  {
   "cell_type": "code",
   "execution_count": null,
   "id": "6577fc28-37a5-4925-97c8-be44d8f73c56",
   "metadata": {},
   "outputs": [],
   "source": [
    "class Bungalows(House):\n",
    "    def introduction(self):\n",
    "        print(\"This is a bungalow.\") # This method is overridden!\n",
    "    \n",
    "    def set_room_num(self, rn):\n",
    "        self.room_num = rn\n",
    "        \n",
    "    def get_room_num(self):\n",
    "        return self.room_num\n",
    "    \n",
    "    def set_heating_num(self, hn):\n",
    "        self.has_heating = hn\n",
    "    \n",
    "    def heating(self):\n",
    "        if self.has_heating > 0:\n",
    "            print(\"Now it's heated.\")\n",
    "        else:\n",
    "            print(\"You don't have heating!!\")"
   ]
  },
  {
   "cell_type": "markdown",
   "id": "bffd053a-2576-4e9f-a739-122a087dd5cd",
   "metadata": {},
   "source": [
    "**With the inheritance relation, all methods and attributes in the parent class ```House``` are also accessible for the child class ```Bungalow```:**"
   ]
  },
  {
   "cell_type": "code",
   "execution_count": null,
   "id": "15e9790f-bd52-4e85-aa0e-6c47cbe5daf3",
   "metadata": {},
   "outputs": [],
   "source": [
    "b = Bungalows(100)\n",
    "b.set_address(\"Maple Street 1\") \n",
    "print(\"Address of my bungalow:\", b.get_address())"
   ]
  },
  {
   "cell_type": "markdown",
   "id": "ab358a98-104c-4b60-a656-6550dac28419",
   "metadata": {},
   "source": [
    "**Note the override here:**"
   ]
  },
  {
   "cell_type": "code",
   "execution_count": null,
   "id": "de984117-9a9c-40cd-970b-87742eb23c07",
   "metadata": {},
   "outputs": [],
   "source": [
    "b.introduction()"
   ]
  },
  {
   "cell_type": "markdown",
   "id": "a6cbb079-a413-40be-95de-4ca4341df176",
   "metadata": {},
   "source": [
    "**Furthermore, it also has its own methods and attributes:**"
   ]
  },
  {
   "cell_type": "code",
   "execution_count": null,
   "id": "6c526cb4-3a48-4a41-8d50-50d19f5a6449",
   "metadata": {},
   "outputs": [],
   "source": [
    "b.set_room_num(5)\n",
    "print(\"Room number of my bungalow:\", b.get_room_num())"
   ]
  },
  {
   "cell_type": "markdown",
   "id": "6ae43cc0-a4a4-4660-ac0b-563806f37925",
   "metadata": {},
   "source": [
    "## 5.2 Inheritance is transitive"
   ]
  },
  {
   "cell_type": "code",
   "execution_count": null,
   "id": "6fdb8b4e-09d4-4334-9113-b827d3a714bb",
   "metadata": {},
   "outputs": [],
   "source": [
    "class Seaview_Bungalows(Bungalows):\n",
    "    def set_sea_direction(self, d):\n",
    "        self.sea_direction = d\n",
    "        \n",
    "    def get_sea_direction(self):\n",
    "        return self.sea_direction"
   ]
  },
  {
   "cell_type": "markdown",
   "id": "082320bd-f75c-477c-9bb0-01b294f99258",
   "metadata": {},
   "source": [
    "**The class ```Seeview_Bungalows``` inherits all methods and attributes of ```Bungalows```:**"
   ]
  },
  {
   "cell_type": "code",
   "execution_count": null,
   "id": "7c870b6c-e5cd-4c45-88e9-04a10e9a7035",
   "metadata": {},
   "outputs": [],
   "source": [
    "svb = Seaview_Bungalows(100)\n",
    "svb.set_heating_num(0)\n",
    "svb.heating()"
   ]
  },
  {
   "cell_type": "markdown",
   "id": "17e8ba29-fd4b-42c1-8cd5-5a708cdbea60",
   "metadata": {},
   "source": [
    "**Furthermore, as ```Bungalow``` is a child class from ```House```, ```Seeview_Bungalow``` also inherits all methods and attributes of ```House```:**"
   ]
  },
  {
   "cell_type": "code",
   "execution_count": null,
   "id": "6653e295-e052-4816-bc98-0112348053a7",
   "metadata": {},
   "outputs": [],
   "source": [
    "svb = Seaview_Bungalows(100)\n",
    "svb.set_address(\"Oak Street 5\")\n",
    "print(\"Address of my seaview bungalow:\", svb.get_address())"
   ]
  },
  {
   "cell_type": "markdown",
   "id": "76d7b828-2cb8-40c8-9c2f-fafb898eb9d5",
   "metadata": {},
   "source": [
    "**Finally, it has also its own methods and attributes:**"
   ]
  },
  {
   "cell_type": "code",
   "execution_count": null,
   "id": "a4189419-7157-4726-9b99-67fa41ce78dd",
   "metadata": {},
   "outputs": [],
   "source": [
    "svb.set_sea_direction(\"west\")\n",
    "print(\"The direction of the see is:\", svb.get_sea_direction())"
   ]
  }
 ],
 "metadata": {
  "kernelspec": {
   "display_name": "Python 3",
   "language": "python",
   "name": "python3"
  },
  "language_info": {
   "codemirror_mode": {
    "name": "ipython",
    "version": 3
   },
   "file_extension": ".py",
   "mimetype": "text/x-python",
   "name": "python",
   "nbconvert_exporter": "python",
   "pygments_lexer": "ipython3",
   "version": "3.8.8"
  }
 },
 "nbformat": 4,
 "nbformat_minor": 5
}
