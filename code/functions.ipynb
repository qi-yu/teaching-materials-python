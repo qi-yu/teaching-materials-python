{
 "cells": [
  {
   "cell_type": "markdown",
   "id": "5be810b8-3e3d-4aa9-a9bc-04849d262762",
   "metadata": {},
   "source": [
    "<font color=\"grey\">Qi Yu (University of Konstanz)  |  ZHAW, March 03-04, 2022</font>"
   ]
  },
  {
   "cell_type": "markdown",
   "id": "608f34e1-c2ec-420a-8105-2b9cc5374b7c",
   "metadata": {},
   "source": [
    "# 1. Simple functions"
   ]
  },
  {
   "cell_type": "markdown",
   "id": "960b50ce-ec9c-40b9-a93a-e9a0c80bfbbc",
   "metadata": {},
   "source": [
    "**Below is a program mimicing two player throwing dice for 3 rounds.**\n",
    "\n",
    "```random.randint(a, b)```: Return a random integer N such that a <= N <= b"
   ]
  },
  {
   "cell_type": "code",
   "execution_count": 1,
   "id": "357a7e45-3ef1-4b63-9edd-e0251177885f",
   "metadata": {},
   "outputs": [],
   "source": [
    "import random"
   ]
  },
  {
   "cell_type": "code",
   "execution_count": 34,
   "id": "498dc2f9-f22f-42f8-a6aa-a3487bc14054",
   "metadata": {},
   "outputs": [
    {
     "name": "stdout",
     "output_type": "stream",
     "text": [
      "Round 1: \n",
      "\tPlayer 1: 2 points\n",
      "\tPlayer 2: 4 points\n",
      "Round 2: \n",
      "\tPlayer 1: 2 points\n",
      "\tPlayer 2: 5 points\n",
      "Round 3: \n",
      "\tPlayer 1: 1 points\n",
      "\tPlayer 2: 2 points\n"
     ]
    }
   ],
   "source": [
    "print(\"Round 1: \")\n",
    "print(\"\\tPlayer 1:\", random.randint(1,6), \"points\")\n",
    "print(\"\\tPlayer 2:\", random.randint(1,6), \"points\")\n",
    "\n",
    "print(\"Round 2: \")\n",
    "print(\"\\tPlayer 1:\", random.randint(1,6), \"points\")\n",
    "print(\"\\tPlayer 2:\", random.randint(1,6), \"points\")\n",
    "\n",
    "print(\"Round 3: \")\n",
    "print(\"\\tPlayer 1:\", random.randint(1,6), \"points\")\n",
    "print(\"\\tPlayer 2:\", random.randint(1,6), \"points\")"
   ]
  },
  {
   "cell_type": "markdown",
   "id": "cae55d2a-848d-45b1-b9a4-c5e37740a02f",
   "metadata": {},
   "source": [
    "**The last two lines in each round are repeated. This can be optimized by using functions.**\n",
    "\n",
    "**Functions are defined in Python using ```def```.**"
   ]
  },
  {
   "cell_type": "code",
   "execution_count": 35,
   "id": "0789bca7-d177-4c4e-9c5e-7c02f24ba9c7",
   "metadata": {},
   "outputs": [],
   "source": [
    "def dice_game(): \n",
    "    print(\"\\tPlayer 1:\", random.randint(1,6), \"points\")\n",
    "    print(\"\\tPlayer 2:\", random.randint(1,6), \"points\")"
   ]
  },
  {
   "cell_type": "markdown",
   "id": "fb6845d2-a102-42fa-92c9-a37fb5981f2f",
   "metadata": {},
   "source": [
    "xxx(): A function in Python\n",
    "\n",
    "E.g, print(), input(), randint()"
   ]
  },
  {
   "cell_type": "code",
   "execution_count": 39,
   "id": "a24faafd-fc9e-4219-8c18-6b1d0cf384b0",
   "metadata": {},
   "outputs": [
    {
     "name": "stdout",
     "output_type": "stream",
     "text": [
      "Round 1:\n",
      "\tPlayer 1: 3 points\n",
      "\tPlayer 2: 1 points\n",
      "Round 2:\n",
      "\tPlayer 1: 4 points\n",
      "\tPlayer 2: 3 points\n",
      "Round 3:\n",
      "\tPlayer 1: 1 points\n",
      "\tPlayer 2: 5 points\n"
     ]
    }
   ],
   "source": [
    "print(\"Round 1:\")\n",
    "dice_game() # Call the function\n",
    "print(\"Round 2:\")\n",
    "dice_game()\n",
    "print(\"Round 3:\")\n",
    "dice_game()"
   ]
  },
  {
   "cell_type": "markdown",
   "id": "e5ab6d9e-1c19-4dcd-9e0b-0f941eca0db6",
   "metadata": {},
   "source": [
    "# 2. Functions that return values:"
   ]
  },
  {
   "cell_type": "markdown",
   "id": "613bc5fd-39b1-49ce-a1b6-53489bb4f55b",
   "metadata": {},
   "source": [
    "**The following part demonstrates why functions that return values are for many cases useful. This is a simple function:**"
   ]
  },
  {
   "cell_type": "code",
   "execution_count": 40,
   "id": "42583b8c-de71-4663-8e51-fbd5d5372253",
   "metadata": {},
   "outputs": [
    {
     "name": "stdout",
     "output_type": "stream",
     "text": [
      "Colorless green ideas sleep furiously\n"
     ]
    }
   ],
   "source": [
    "def myfunc():\n",
    "    mystr = 'Colorless green ideas sleep furiously' # This is defined within the function \n",
    "    print(mystr)\n",
    "\n",
    "myfunc()"
   ]
  },
  {
   "cell_type": "markdown",
   "id": "8d536dae-b0ed-49cf-bba0-d145d96990f1",
   "metadata": {},
   "source": [
    "**However, when the user wants to operate on ```mystr```, it won't work:**"
   ]
  },
  {
   "cell_type": "code",
   "execution_count": 41,
   "id": "77d536f6-3430-4330-b7ce-1af739b458e3",
   "metadata": {
    "tags": []
   },
   "outputs": [
    {
     "ename": "NameError",
     "evalue": "name 'mystr' is not defined",
     "output_type": "error",
     "traceback": [
      "\u001b[0;31m---------------------------------------------------------------------------\u001b[0m",
      "\u001b[0;31mNameError\u001b[0m                                 Traceback (most recent call last)",
      "\u001b[0;32m<ipython-input-41-5c5871263af5>\u001b[0m in \u001b[0;36m<module>\u001b[0;34m\u001b[0m\n\u001b[0;32m----> 1\u001b[0;31m \u001b[0mmystr\u001b[0m \u001b[0;34m+=\u001b[0m \u001b[0;34m\".\"\u001b[0m\u001b[0;34m\u001b[0m\u001b[0;34m\u001b[0m\u001b[0m\n\u001b[0m",
      "\u001b[0;31mNameError\u001b[0m: name 'mystr' is not defined"
     ]
    }
   ],
   "source": [
    "mystr += \".\" # That's why it cannot be used globally"
   ]
  },
  {
   "cell_type": "markdown",
   "id": "2777c0a5-b9e8-40ab-88c3-dac5f9a3bf95",
   "metadata": {},
   "source": [
    "**The reason is that ```mystr``` is a *local variable* that is only defined within the function, but not globally.**\n",
    "\n",
    "**However, this can be solved by constructing function with a ```return```:**"
   ]
  },
  {
   "cell_type": "code",
   "execution_count": 43,
   "id": "aae7ad0a-cbab-4114-b5ee-16f822ca3bd4",
   "metadata": {},
   "outputs": [
    {
     "name": "stdout",
     "output_type": "stream",
     "text": [
      "Colorless green ideas sleep furiously\n",
      "Colorless green ideas sleep furiously !!!\n"
     ]
    }
   ],
   "source": [
    "def myfunc_2():\n",
    "    mystr = 'Colorless green ideas sleep furiously'\n",
    "    print(mystr)\n",
    "    return mystr\n",
    "\n",
    "x = myfunc_2()\n",
    "x += \" !!!\"\n",
    "print(x)"
   ]
  },
  {
   "cell_type": "markdown",
   "id": "a88edc1c-9ece-482a-b776-cb47d45b8a21",
   "metadata": {},
   "source": [
    "**Note that ```return``` exits a function, and all statements after ```return``` will not be executed:**"
   ]
  },
  {
   "cell_type": "code",
   "execution_count": 45,
   "id": "00fde4d6-2c80-4fb4-9650-f44edd4cdcac",
   "metadata": {},
   "outputs": [
    {
     "name": "stdout",
     "output_type": "stream",
     "text": [
      "Colorless green ideas sleep furiously\n"
     ]
    },
    {
     "data": {
      "text/plain": [
       "'Colorless green ideas sleep furiously'"
      ]
     },
     "execution_count": 45,
     "metadata": {},
     "output_type": "execute_result"
    }
   ],
   "source": [
    "def myfunc():\n",
    "    mystr = 'Colorless green ideas sleep furiously'\n",
    "    print(mystr)\n",
    "    return mystr\n",
    "    print(\"Print out this line, too.\")\n",
    "\n",
    "myfunc()"
   ]
  },
  {
   "cell_type": "code",
   "execution_count": 46,
   "id": "22673b94-d892-4c93-a942-ef18218ff4c6",
   "metadata": {},
   "outputs": [
    {
     "name": "stdout",
     "output_type": "stream",
     "text": [
      "Not smaller equal than 7.\n"
     ]
    }
   ],
   "source": [
    "def myfunc():\n",
    "    mynum = 8\n",
    "    if mynum <= 7:\n",
    "        return mynum\n",
    "    else:\n",
    "        print(\"Not smaller equal than 7.\")\n",
    "        \n",
    "myfunc()"
   ]
  },
  {
   "cell_type": "markdown",
   "id": "c963f303-65a9-4d17-8f7f-017aed1665c5",
   "metadata": {},
   "source": [
    "**A function can also return more than one values. Multiple values are separated by comma - A special syntax of Python:**"
   ]
  },
  {
   "cell_type": "code",
   "execution_count": 47,
   "id": "0198e9ee-06e3-40c3-a51a-49bec020620c",
   "metadata": {},
   "outputs": [
    {
     "name": "stdin",
     "output_type": "stream",
     "text": [
      "First string:  black\n",
      "Second string:  board\n"
     ]
    },
    {
     "name": "stdout",
     "output_type": "stream",
     "text": [
      "a = 5\n",
      "b = 5\n",
      "c = black board\n"
     ]
    }
   ],
   "source": [
    "def myfunc():\n",
    "    x = input('First string: ')\n",
    "    y = input('Second string: ')\n",
    "\n",
    "    # concatenate strings\n",
    "    z = x + ' ' + y\n",
    "\n",
    "    # return three values\n",
    "    return len(x), len(y), z\n",
    "\n",
    "a, b, c = myfunc() # 3 returned values\n",
    "\n",
    "#print the 3 values\n",
    "print('a =', a)\n",
    "print('b =', b)\n",
    "print('c =', c)\n"
   ]
  },
  {
   "cell_type": "markdown",
   "id": "f64cd759-6a78-4413-9060-8222a5019761",
   "metadata": {},
   "source": [
    "# 3. Functions that take arguments:"
   ]
  },
  {
   "cell_type": "markdown",
   "id": "878fb9ba-5be0-4f84-a2e3-7c74e6ec69f0",
   "metadata": {},
   "source": [
    "## 3.1 Arguments"
   ]
  },
  {
   "cell_type": "code",
   "execution_count": 8,
   "id": "ab1dd830-23c9-4f13-a241-92146b81fb91",
   "metadata": {},
   "outputs": [],
   "source": [
    "def add(a, b): # a, b: arguments\n",
    "    return b + a #return the concatenation OR addition of those values"
   ]
  },
  {
   "cell_type": "code",
   "execution_count": 2,
   "id": "bee4a146-aa7e-4fb0-96d1-6b83fb87300c",
   "metadata": {},
   "outputs": [
    {
     "data": {
      "text/plain": [
       "13"
      ]
     },
     "execution_count": 2,
     "metadata": {},
     "output_type": "execute_result"
    }
   ],
   "source": [
    "add(3, 10)"
   ]
  },
  {
   "cell_type": "code",
   "execution_count": 4,
   "id": "18fc8374-d613-45bc-81a1-eed0b458e345",
   "metadata": {},
   "outputs": [
    {
     "data": {
      "text/plain": [
       "'blackboard'"
      ]
     },
     "execution_count": 4,
     "metadata": {},
     "output_type": "execute_result"
    }
   ],
   "source": [
    "add('black','board')"
   ]
  },
  {
   "cell_type": "markdown",
   "id": "8fc9053c-eef9-408c-b384-c6d39ec3cc61",
   "metadata": {},
   "source": [
    "## 3.2 Different ways of specifying arguments:"
   ]
  },
  {
   "cell_type": "code",
   "execution_count": 9,
   "id": "d299e29d-cc05-4540-87c5-06a051c6d644",
   "metadata": {},
   "outputs": [
    {
     "data": {
      "text/plain": [
       "'boardblack'"
      ]
     },
     "execution_count": 9,
     "metadata": {},
     "output_type": "execute_result"
    }
   ],
   "source": [
    "add(a=\"black\", b=\"board\")"
   ]
  },
  {
   "cell_type": "code",
   "execution_count": 10,
   "id": "f5e1f717-1247-4bbe-b1ef-10a3314f5b2e",
   "metadata": {},
   "outputs": [
    {
     "data": {
      "text/plain": [
       "'boardblack'"
      ]
     },
     "execution_count": 10,
     "metadata": {},
     "output_type": "execute_result"
    }
   ],
   "source": [
    "add(b=\"board\", a=\"black\")"
   ]
  },
  {
   "cell_type": "markdown",
   "id": "787035c6-b84b-4e2b-b429-21c70b58252c",
   "metadata": {},
   "source": [
    "**Compare the last cell with the following cell:**"
   ]
  },
  {
   "cell_type": "code",
   "execution_count": 7,
   "id": "60d9001a-9bc8-4b2c-b013-2fd5687790d9",
   "metadata": {},
   "outputs": [
    {
     "data": {
      "text/plain": [
       "'boardblack'"
      ]
     },
     "execution_count": 7,
     "metadata": {},
     "output_type": "execute_result"
    }
   ],
   "source": [
    "add(\"board\", \"black\")"
   ]
  },
  {
   "cell_type": "markdown",
   "id": "1ae5674d-033b-4138-9e0e-4ebd6e2be56e",
   "metadata": {},
   "source": [
    "## 3.3 Specifying default values of arguments:"
   ]
  },
  {
   "cell_type": "code",
   "execution_count": 11,
   "id": "cb438fbd-16a8-4842-b613-2380ee797c28",
   "metadata": {},
   "outputs": [],
   "source": [
    "def f(x, y='oops'):\n",
    "    return x + ' ' + y"
   ]
  },
  {
   "cell_type": "code",
   "execution_count": 13,
   "id": "ced40bd0-4654-42bd-8e00-9d19694e9d93",
   "metadata": {},
   "outputs": [
    {
     "data": {
      "text/plain": [
       "'black oops'"
      ]
     },
     "execution_count": 13,
     "metadata": {},
     "output_type": "execute_result"
    }
   ],
   "source": [
    "f('black')"
   ]
  },
  {
   "cell_type": "code",
   "execution_count": 14,
   "id": "b4480f1e-40a0-4728-ad04-1ba239d12b2b",
   "metadata": {},
   "outputs": [
    {
     "data": {
      "text/plain": [
       "'black board'"
      ]
     },
     "execution_count": 14,
     "metadata": {},
     "output_type": "execute_result"
    }
   ],
   "source": [
    "f('black','board')"
   ]
  },
  {
   "cell_type": "markdown",
   "id": "02aea565-96e6-4e30-b55f-917bc465c0e6",
   "metadata": {},
   "source": [
    "## 3.4 Unspecified number of arguments:"
   ]
  },
  {
   "cell_type": "code",
   "execution_count": 26,
   "id": "a9c951f9-8d69-4d6f-a28a-85de368727e0",
   "metadata": {},
   "outputs": [],
   "source": [
    "def func(*args,**kwargs):\n",
    "    #for a in args:\n",
    "     #   print(a)  #print unnamed args\n",
    "        \n",
    "    for k in kwargs:\n",
    "        print(kwargs[k])  #print named args # '\\t',kwargs[k]"
   ]
  },
  {
   "cell_type": "code",
   "execution_count": 27,
   "id": "84df7498-1508-443f-8b21-06c00ac5d7a5",
   "metadata": {},
   "outputs": [
    {
     "name": "stdout",
     "output_type": "stream",
     "text": [
      "wow\n",
      "3.5\n",
      "hello\n",
      "oops\n"
     ]
    }
   ],
   "source": [
    "func(3, 6, 8, \"Python\", x='wow', y=3.5, z=\"hello\", w=\"oops\")"
   ]
  },
  {
   "cell_type": "markdown",
   "id": "e7a4715f-f1e4-428a-a1b7-ebf9157ba4c7",
   "metadata": {},
   "source": [
    "{\"x\": \"wow\", \"y\": 3.5, \"z\": \"hello\"}"
   ]
  }
 ],
 "metadata": {
  "kernelspec": {
   "display_name": "Python 3",
   "language": "python",
   "name": "python3"
  },
  "language_info": {
   "codemirror_mode": {
    "name": "ipython",
    "version": 3
   },
   "file_extension": ".py",
   "mimetype": "text/x-python",
   "name": "python",
   "nbconvert_exporter": "python",
   "pygments_lexer": "ipython3",
   "version": "3.8.8"
  }
 },
 "nbformat": 4,
 "nbformat_minor": 5
}
