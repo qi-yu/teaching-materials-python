{
 "cells": [
  {
   "cell_type": "markdown",
   "id": "6699c5ce-af8f-4278-be71-be2634ae0892",
   "metadata": {},
   "source": [
    "<font color=\"grey\">Qi Yu (University of Konstanz)  |  ZHAW, March 03-04, 2022</font>"
   ]
  },
  {
   "cell_type": "markdown",
   "id": "ab623d79-47f9-48b4-99bd-f31ba4f07b90",
   "metadata": {},
   "source": [
    "# 1. Write files"
   ]
  },
  {
   "cell_type": "markdown",
   "id": "288b79d4-5e32-444e-bc44-6ca4fedff714",
   "metadata": {},
   "source": [
    "**Open file stream using ```open()```, which takes 2 argumets:**\n",
    "1. The path of the stream;\n",
    "1. The mode:\n",
    "    1. ```w```: writing\n",
    "    1. ```r```: reading\n",
    "    1. (See other options [here](https://docs.python.org/3/library/functions.html#open).)    "
   ]
  },
  {
   "cell_type": "code",
   "execution_count": null,
   "id": "2bc94727-66df-4ab3-9302-c138bfeef9db",
   "metadata": {},
   "outputs": [],
   "source": [
    "outFile = open('testfile.txt','w')"
   ]
  },
  {
   "cell_type": "markdown",
   "id": "d7876bfd-bed4-426f-8926-4f89da0c2baf",
   "metadata": {},
   "source": [
    "**Write to the stream:**"
   ]
  },
  {
   "cell_type": "code",
   "execution_count": null,
   "id": "118d68ba-c068-4155-8fc2-fddc37ebccdb",
   "metadata": {},
   "outputs": [],
   "source": [
    "outFile.write('some text!\\n')\n",
    "outFile.write('...and some more text!\\n')"
   ]
  },
  {
   "cell_type": "markdown",
   "id": "fb5b94d6-28c7-406e-8e55-407c07266075",
   "metadata": {},
   "source": [
    "**And close the stream:**"
   ]
  },
  {
   "cell_type": "code",
   "execution_count": null,
   "id": "83a75c71-fa30-42ac-bdaa-24ca049c415b",
   "metadata": {},
   "outputs": [],
   "source": [
    "outFile.close()"
   ]
  },
  {
   "cell_type": "markdown",
   "id": "a2879d9a-955b-4125-9c25-03db907eb305",
   "metadata": {
    "tags": []
   },
   "source": [
    "# 2. Read in files"
   ]
  },
  {
   "cell_type": "markdown",
   "id": "098ccb36-29d4-4270-b5b8-82e9d63c5012",
   "metadata": {},
   "source": [
    "## 2.1 Read in the whole text as one chunk"
   ]
  },
  {
   "cell_type": "code",
   "execution_count": null,
   "id": "c490f83d-ea4d-4bd6-90df-267e7be5aec1",
   "metadata": {},
   "outputs": [],
   "source": [
    "inFile = open('testfile.txt','r')\n",
    "text = inFile.read()\n",
    "inFile.close()"
   ]
  },
  {
   "cell_type": "code",
   "execution_count": null,
   "id": "e1b255aa-d89d-4944-9fd0-f3719b6d3ac9",
   "metadata": {},
   "outputs": [],
   "source": [
    "text"
   ]
  },
  {
   "cell_type": "markdown",
   "id": "a2f30e04-be85-41bf-bcb0-d7a401ddf430",
   "metadata": {},
   "source": [
    "**Note that ```read()``` can also take an argument which defines the size (length) of the part to be read in.**"
   ]
  },
  {
   "cell_type": "code",
   "execution_count": null,
   "id": "2a712f12-281d-444f-b06c-fc8a18000c53",
   "metadata": {},
   "outputs": [],
   "source": [
    "inFile = open('testfile.txt','r')\n",
    "text2 = inFile.read(29)\n",
    "inFile.close()"
   ]
  },
  {
   "cell_type": "code",
   "execution_count": null,
   "id": "8cb369b2-5061-4909-8d2a-ac42a109bf8e",
   "metadata": {},
   "outputs": [],
   "source": [
    "text2"
   ]
  },
  {
   "cell_type": "markdown",
   "id": "5f1e6958-81fd-4907-8141-02f382240df2",
   "metadata": {},
   "source": [
    "## 2.2 Read in the text line by line"
   ]
  },
  {
   "cell_type": "markdown",
   "id": "2d2a451f-b301-4647-9527-036408ce3708",
   "metadata": {},
   "source": [
    "**Using a ```for```-loop:**"
   ]
  },
  {
   "cell_type": "code",
   "execution_count": null,
   "id": "f761b37e-6707-4ca5-af4f-927cfd9a1f77",
   "metadata": {},
   "outputs": [],
   "source": [
    "inFile = open('testfile.txt','r')\n",
    "\n",
    "for line in inFile: \n",
    "    print(line) \n",
    "    \n",
    "inFile.close()"
   ]
  },
  {
   "cell_type": "markdown",
   "id": "71e99493-03db-43d4-8dc4-dfc7dc2af3f7",
   "metadata": {},
   "source": [
    "**This can also be done by using ```readlines()```: It returns all lines as a list.**"
   ]
  },
  {
   "cell_type": "code",
   "execution_count": null,
   "id": "d004fa47-87b7-4506-a0d6-5d4b9d0b3063",
   "metadata": {},
   "outputs": [],
   "source": [
    "inFile = open('testfile.txt','r')\n",
    "\n",
    "for line in inFile.readlines():\n",
    "    print(line)\n",
    "    \n",
    "inFile.close()"
   ]
  },
  {
   "cell_type": "markdown",
   "id": "e974e13f-2bec-481b-9612-8331556ac87b",
   "metadata": {},
   "source": [
    "## 2.3 Read in a single line:"
   ]
  },
  {
   "cell_type": "markdown",
   "id": "04ce4129-4dab-4572-9bd9-b2fb0aa6b692",
   "metadata": {},
   "source": [
    "**```readline()``` returns one line from the file each time when called.**"
   ]
  },
  {
   "cell_type": "code",
   "execution_count": null,
   "id": "10182e4c-b843-4ca0-a139-7a87eef77284",
   "metadata": {},
   "outputs": [],
   "source": [
    "inFile = open('testfile.txt','r')\n",
    "\n",
    "l1 = inFile.readline()\n",
    "l2 = inFile.readline()\n",
    "print(l1)\n",
    "print(l2)\n",
    "\n",
    "inFile.close()"
   ]
  },
  {
   "cell_type": "markdown",
   "id": "3ab6f101-abaa-424c-a0d4-341037179fb7",
   "metadata": {},
   "source": [
    "**Same as ```read()```, the method ```readline()``` can also take an argument which defines the size of the part to be read in.**\n",
    "\n",
    "**The default value (i.e., when no argument is passed) of the size is ```-1```.**"
   ]
  },
  {
   "cell_type": "code",
   "execution_count": null,
   "id": "ab059f9f-66f0-40d9-b07d-dcca3a0f2aa4",
   "metadata": {},
   "outputs": [],
   "source": [
    "inFile = open('testfile.txt','r')\n",
    "\n",
    "l1 = inFile.readline()\n",
    "l2 = inFile.readline(5)\n",
    "print(l1)\n",
    "print(l2)\n",
    "\n",
    "inFile.close()"
   ]
  },
  {
   "cell_type": "markdown",
   "id": "7b94e557-61eb-4393-ac75-70906c55f4f2",
   "metadata": {},
   "source": [
    "# 3. Overwriting (dangerous!)"
   ]
  },
  {
   "cell_type": "code",
   "execution_count": null,
   "id": "0da797ce-1932-4cd6-92bb-a6561a64f46e",
   "metadata": {},
   "outputs": [],
   "source": [
    "f1 = open('testfile2.txt','w')\n",
    "\n",
    "f1.write('important text 1\\n')\n",
    "f1.write('important text 2\\n')\n",
    "\n",
    "f1.close()"
   ]
  },
  {
   "cell_type": "code",
   "execution_count": null,
   "id": "f69bd86d-adff-4b3b-b10e-3159ea2d459d",
   "metadata": {},
   "outputs": [],
   "source": [
    "f2 = open('testfile2.txt','w')\n",
    "f2.write('NEW text')\n",
    "f2.close()"
   ]
  },
  {
   "cell_type": "code",
   "execution_count": null,
   "id": "d685f01c-2fb9-4260-aeb4-60e22c346db2",
   "metadata": {},
   "outputs": [],
   "source": [
    "f = open(\"peterpan.txt\", \"r\")\n",
    "text = f.readlines()\n",
    "f.close()"
   ]
  }
 ],
 "metadata": {
  "kernelspec": {
   "display_name": "Python 3",
   "language": "python",
   "name": "python3"
  },
  "language_info": {
   "codemirror_mode": {
    "name": "ipython",
    "version": 3
   },
   "file_extension": ".py",
   "mimetype": "text/x-python",
   "name": "python",
   "nbconvert_exporter": "python",
   "pygments_lexer": "ipython3",
   "version": "3.8.8"
  }
 },
 "nbformat": 4,
 "nbformat_minor": 5
}
